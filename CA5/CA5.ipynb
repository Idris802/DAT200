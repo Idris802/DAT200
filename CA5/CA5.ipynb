{
 "cells": [
  {
   "cell_type": "markdown",
   "metadata": {},
   "source": [
    "# CA5"
   ]
  },
  {
   "cell_type": "markdown",
   "metadata": {},
   "source": [
    "### Imports"
   ]
  },
  {
   "cell_type": "code",
   "execution_count": 1,
   "metadata": {},
   "outputs": [
    {
     "name": "stderr",
     "output_type": "stream",
     "text": [
      "/tmp/ipykernel_3353516/588508155.py:2: DeprecationWarning: \n",
      "Pyarrow will become a required dependency of pandas in the next major release of pandas (pandas 3.0),\n",
      "(to allow more performant data types, such as the Arrow string type, and better interoperability with other libraries)\n",
      "but was not found to be installed on your system.\n",
      "If this would cause problems for you,\n",
      "please provide us feedback at https://github.com/pandas-dev/pandas/issues/54466\n",
      "        \n",
      "  import pandas as pd\n",
      "/home/idris/.local/lib/python3.10/site-packages/matplotlib/projections/__init__.py:63: UserWarning: Unable to import Axes3D. This may be due to multiple versions of Matplotlib being installed (e.g. as a system package and as a pip package). As a result, the 3D projection is not available.\n",
      "  warnings.warn(\"Unable to import Axes3D. This may be due to multiple versions of \"\n"
     ]
    }
   ],
   "source": [
    "import numpy as np\n",
    "import pandas as pd\n",
    "\n",
    "from sklearn.impute import SimpleImputer\n",
    "from sklearn.pipeline import Pipeline \n",
    "from sklearn.decomposition import PCA\n",
    "from sklearn.compose import ColumnTransformer\n",
    "from sklearn.model_selection import train_test_split, GridSearchCV\n",
    "from sklearn.preprocessing import StandardScaler, OneHotEncoder\n",
    "from sklearn.linear_model import LinearRegression\n",
    "from sklearn.cross_decomposition import PLSRegression\n",
    "from sklearn.metrics import mean_absolute_error\n",
    "from sklearn.ensemble import RandomForestClassifier\n",
    "\n",
    "\n",
    "import matplotlib.pyplot as plt\n",
    "import seaborn as sns"
   ]
  },
  {
   "cell_type": "markdown",
   "metadata": {},
   "source": [
    "### Reading data"
   ]
  },
  {
   "cell_type": "code",
   "execution_count": 2,
   "metadata": {},
   "outputs": [
    {
     "data": {
      "text/html": [
       "<div>\n",
       "<style scoped>\n",
       "    .dataframe tbody tr th:only-of-type {\n",
       "        vertical-align: middle;\n",
       "    }\n",
       "\n",
       "    .dataframe tbody tr th {\n",
       "        vertical-align: top;\n",
       "    }\n",
       "\n",
       "    .dataframe thead th {\n",
       "        text-align: right;\n",
       "    }\n",
       "</style>\n",
       "<table border=\"1\" class=\"dataframe\">\n",
       "  <thead>\n",
       "    <tr style=\"text-align: right;\">\n",
       "      <th></th>\n",
       "      <th>Length (cm)</th>\n",
       "      <th>Width (cm)</th>\n",
       "      <th>Weight (g)</th>\n",
       "      <th>Pericarp Thickness (mm)</th>\n",
       "      <th>Seed Count</th>\n",
       "      <th>Capsaicin Content</th>\n",
       "      <th>Vitamin C Content (mg)</th>\n",
       "      <th>Sugar Content</th>\n",
       "      <th>Moisture Content</th>\n",
       "      <th>Firmness</th>\n",
       "      <th>color</th>\n",
       "      <th>Harvest Time</th>\n",
       "      <th>Average Daily Temperature During Growth (celcius)</th>\n",
       "      <th>Average Temperature During Storage (celcius)</th>\n",
       "      <th>Scoville Heat Units (SHU)</th>\n",
       "    </tr>\n",
       "  </thead>\n",
       "  <tbody>\n",
       "    <tr>\n",
       "      <th>0</th>\n",
       "      <td>17.37</td>\n",
       "      <td>5.42</td>\n",
       "      <td>94.30</td>\n",
       "      <td>4.90</td>\n",
       "      <td>193.93</td>\n",
       "      <td>3.21</td>\n",
       "      <td>173.59</td>\n",
       "      <td>6.15</td>\n",
       "      <td>88.59</td>\n",
       "      <td>3.40</td>\n",
       "      <td>red</td>\n",
       "      <td>Midday</td>\n",
       "      <td>8.68</td>\n",
       "      <td>5-6</td>\n",
       "      <td>0.00</td>\n",
       "    </tr>\n",
       "    <tr>\n",
       "      <th>1</th>\n",
       "      <td>27.78</td>\n",
       "      <td>4.75</td>\n",
       "      <td>262.71</td>\n",
       "      <td>6.56</td>\n",
       "      <td>186.29</td>\n",
       "      <td>8.19</td>\n",
       "      <td>100.41</td>\n",
       "      <td>2.36</td>\n",
       "      <td>111.20</td>\n",
       "      <td>5.45</td>\n",
       "      <td>green</td>\n",
       "      <td>Midday</td>\n",
       "      <td>22.44</td>\n",
       "      <td>NaN</td>\n",
       "      <td>0.00</td>\n",
       "    </tr>\n",
       "    <tr>\n",
       "      <th>2</th>\n",
       "      <td>6.17</td>\n",
       "      <td>3.51</td>\n",
       "      <td>66.72</td>\n",
       "      <td>7.96</td>\n",
       "      <td>298.81</td>\n",
       "      <td>4.69</td>\n",
       "      <td>125.91</td>\n",
       "      <td>6.75</td>\n",
       "      <td>72.98</td>\n",
       "      <td>2.77</td>\n",
       "      <td>red</td>\n",
       "      <td>Midday</td>\n",
       "      <td>24.99</td>\n",
       "      <td>NaN</td>\n",
       "      <td>455995.06</td>\n",
       "    </tr>\n",
       "    <tr>\n",
       "      <th>3</th>\n",
       "      <td>6.12</td>\n",
       "      <td>6.07</td>\n",
       "      <td>51.24</td>\n",
       "      <td>4.57</td>\n",
       "      <td>39.36</td>\n",
       "      <td>2.76</td>\n",
       "      <td>143.54</td>\n",
       "      <td>5.93</td>\n",
       "      <td>63.93</td>\n",
       "      <td>1.62</td>\n",
       "      <td>yellow</td>\n",
       "      <td>Midday</td>\n",
       "      <td>13.05</td>\n",
       "      <td>NaN</td>\n",
       "      <td>0.00</td>\n",
       "    </tr>\n",
       "    <tr>\n",
       "      <th>4</th>\n",
       "      <td>28.58</td>\n",
       "      <td>4.84</td>\n",
       "      <td>166.51</td>\n",
       "      <td>3.07</td>\n",
       "      <td>194.07</td>\n",
       "      <td>7.01</td>\n",
       "      <td>193.76</td>\n",
       "      <td>2.85</td>\n",
       "      <td>88.19</td>\n",
       "      <td>3.99</td>\n",
       "      <td>red</td>\n",
       "      <td>Midday</td>\n",
       "      <td>27.08</td>\n",
       "      <td>NaN</td>\n",
       "      <td>0.00</td>\n",
       "    </tr>\n",
       "  </tbody>\n",
       "</table>\n",
       "</div>"
      ],
      "text/plain": [
       "   Length (cm)  Width (cm)  Weight (g)  Pericarp Thickness (mm)  Seed Count  \\\n",
       "0        17.37        5.42       94.30                     4.90      193.93   \n",
       "1        27.78        4.75      262.71                     6.56      186.29   \n",
       "2         6.17        3.51       66.72                     7.96      298.81   \n",
       "3         6.12        6.07       51.24                     4.57       39.36   \n",
       "4        28.58        4.84      166.51                     3.07      194.07   \n",
       "\n",
       "   Capsaicin Content  Vitamin C Content (mg)  Sugar Content  Moisture Content  \\\n",
       "0               3.21                  173.59           6.15             88.59   \n",
       "1               8.19                  100.41           2.36            111.20   \n",
       "2               4.69                  125.91           6.75             72.98   \n",
       "3               2.76                  143.54           5.93             63.93   \n",
       "4               7.01                  193.76           2.85             88.19   \n",
       "\n",
       "   Firmness   color Harvest Time  \\\n",
       "0      3.40     red       Midday   \n",
       "1      5.45   green       Midday   \n",
       "2      2.77     red       Midday   \n",
       "3      1.62  yellow       Midday   \n",
       "4      3.99     red       Midday   \n",
       "\n",
       "   Average Daily Temperature During Growth (celcius)  \\\n",
       "0                                               8.68   \n",
       "1                                              22.44   \n",
       "2                                              24.99   \n",
       "3                                              13.05   \n",
       "4                                              27.08   \n",
       "\n",
       "  Average Temperature During Storage (celcius)  Scoville Heat Units (SHU)  \n",
       "0                                          5-6                       0.00  \n",
       "1                                          NaN                       0.00  \n",
       "2                                          NaN                  455995.06  \n",
       "3                                          NaN                       0.00  \n",
       "4                                          NaN                       0.00  "
      ]
     },
     "execution_count": 2,
     "metadata": {},
     "output_type": "execute_result"
    }
   ],
   "source": [
    "# Reading the train data.\n",
    "train_df = pd.read_csv('assets/train.csv')\n",
    "train_df.head()"
   ]
  },
  {
   "cell_type": "code",
   "execution_count": 3,
   "metadata": {},
   "outputs": [
    {
     "data": {
      "text/html": [
       "<div>\n",
       "<style scoped>\n",
       "    .dataframe tbody tr th:only-of-type {\n",
       "        vertical-align: middle;\n",
       "    }\n",
       "\n",
       "    .dataframe tbody tr th {\n",
       "        vertical-align: top;\n",
       "    }\n",
       "\n",
       "    .dataframe thead th {\n",
       "        text-align: right;\n",
       "    }\n",
       "</style>\n",
       "<table border=\"1\" class=\"dataframe\">\n",
       "  <thead>\n",
       "    <tr style=\"text-align: right;\">\n",
       "      <th></th>\n",
       "      <th>Length (cm)</th>\n",
       "      <th>Width (cm)</th>\n",
       "      <th>Weight (g)</th>\n",
       "      <th>Pericarp Thickness (mm)</th>\n",
       "      <th>Seed Count</th>\n",
       "      <th>Capsaicin Content</th>\n",
       "      <th>Vitamin C Content (mg)</th>\n",
       "      <th>Sugar Content</th>\n",
       "      <th>Moisture Content</th>\n",
       "      <th>Firmness</th>\n",
       "      <th>color</th>\n",
       "      <th>Harvest Time</th>\n",
       "      <th>Average Daily Temperature During Growth (celcius)</th>\n",
       "      <th>Average Temperature During Storage (celcius)</th>\n",
       "    </tr>\n",
       "  </thead>\n",
       "  <tbody>\n",
       "    <tr>\n",
       "      <th>0</th>\n",
       "      <td>20.60</td>\n",
       "      <td>6.92</td>\n",
       "      <td>90.98</td>\n",
       "      <td>3.55</td>\n",
       "      <td>2.25</td>\n",
       "      <td>0.89</td>\n",
       "      <td>128.00</td>\n",
       "      <td>6.64</td>\n",
       "      <td>75.72</td>\n",
       "      <td>4.33</td>\n",
       "      <td>red</td>\n",
       "      <td>Midday</td>\n",
       "      <td>28.05</td>\n",
       "      <td>7-8</td>\n",
       "    </tr>\n",
       "    <tr>\n",
       "      <th>1</th>\n",
       "      <td>9.38</td>\n",
       "      <td>11.84</td>\n",
       "      <td>130.67</td>\n",
       "      <td>0.51</td>\n",
       "      <td>2.92</td>\n",
       "      <td>4.86</td>\n",
       "      <td>158.31</td>\n",
       "      <td>1.45</td>\n",
       "      <td>121.15</td>\n",
       "      <td>3.95</td>\n",
       "      <td>yellow</td>\n",
       "      <td>Midday</td>\n",
       "      <td>18.89</td>\n",
       "      <td>NaN</td>\n",
       "    </tr>\n",
       "    <tr>\n",
       "      <th>2</th>\n",
       "      <td>7.65</td>\n",
       "      <td>3.87</td>\n",
       "      <td>78.76</td>\n",
       "      <td>8.88</td>\n",
       "      <td>125.27</td>\n",
       "      <td>3.55</td>\n",
       "      <td>96.85</td>\n",
       "      <td>3.80</td>\n",
       "      <td>133.85</td>\n",
       "      <td>3.35</td>\n",
       "      <td>yellow</td>\n",
       "      <td>Midday</td>\n",
       "      <td>15.87</td>\n",
       "      <td>NaN</td>\n",
       "    </tr>\n",
       "    <tr>\n",
       "      <th>3</th>\n",
       "      <td>9.04</td>\n",
       "      <td>7.89</td>\n",
       "      <td>149.76</td>\n",
       "      <td>5.26</td>\n",
       "      <td>284.68</td>\n",
       "      <td>3.86</td>\n",
       "      <td>231.46</td>\n",
       "      <td>4.99</td>\n",
       "      <td>109.73</td>\n",
       "      <td>5.50</td>\n",
       "      <td>red</td>\n",
       "      <td>Midday</td>\n",
       "      <td>19.51</td>\n",
       "      <td>NaN</td>\n",
       "    </tr>\n",
       "    <tr>\n",
       "      <th>4</th>\n",
       "      <td>9.80</td>\n",
       "      <td>6.65</td>\n",
       "      <td>127.25</td>\n",
       "      <td>1.38</td>\n",
       "      <td>126.19</td>\n",
       "      <td>12.60</td>\n",
       "      <td>174.90</td>\n",
       "      <td>5.33</td>\n",
       "      <td>104.12</td>\n",
       "      <td>1.61</td>\n",
       "      <td>red</td>\n",
       "      <td>Midday</td>\n",
       "      <td>23.61</td>\n",
       "      <td>NaN</td>\n",
       "    </tr>\n",
       "  </tbody>\n",
       "</table>\n",
       "</div>"
      ],
      "text/plain": [
       "   Length (cm)  Width (cm)  Weight (g)  Pericarp Thickness (mm)  Seed Count  \\\n",
       "0        20.60        6.92       90.98                     3.55        2.25   \n",
       "1         9.38       11.84      130.67                     0.51        2.92   \n",
       "2         7.65        3.87       78.76                     8.88      125.27   \n",
       "3         9.04        7.89      149.76                     5.26      284.68   \n",
       "4         9.80        6.65      127.25                     1.38      126.19   \n",
       "\n",
       "   Capsaicin Content  Vitamin C Content (mg)  Sugar Content  Moisture Content  \\\n",
       "0               0.89                  128.00           6.64             75.72   \n",
       "1               4.86                  158.31           1.45            121.15   \n",
       "2               3.55                   96.85           3.80            133.85   \n",
       "3               3.86                  231.46           4.99            109.73   \n",
       "4              12.60                  174.90           5.33            104.12   \n",
       "\n",
       "   Firmness   color Harvest Time  \\\n",
       "0      4.33     red       Midday   \n",
       "1      3.95  yellow       Midday   \n",
       "2      3.35  yellow       Midday   \n",
       "3      5.50     red       Midday   \n",
       "4      1.61     red       Midday   \n",
       "\n",
       "   Average Daily Temperature During Growth (celcius)  \\\n",
       "0                                              28.05   \n",
       "1                                              18.89   \n",
       "2                                              15.87   \n",
       "3                                              19.51   \n",
       "4                                              23.61   \n",
       "\n",
       "  Average Temperature During Storage (celcius)  \n",
       "0                                          7-8  \n",
       "1                                          NaN  \n",
       "2                                          NaN  \n",
       "3                                          NaN  \n",
       "4                                          NaN  "
      ]
     },
     "execution_count": 3,
     "metadata": {},
     "output_type": "execute_result"
    }
   ],
   "source": [
    "# Reading the test data.\n",
    "X_test = pd.read_csv('assets/test.csv')\n",
    "X_test.head()"
   ]
  },
  {
   "cell_type": "markdown",
   "metadata": {},
   "source": [
    "### Data exploration and visualisation"
   ]
  },
  {
   "cell_type": "code",
   "execution_count": 4,
   "metadata": {},
   "outputs": [],
   "source": [
    "# Creates histogram or box plots.\n",
    "def plot_dist_box(df, column_names, dist=True, box=False):\n",
    "    plt.figure(figsize=(20,30))\n",
    "    \n",
    "    for i in range(0, len(column_names)):\n",
    "        plt.subplot(5, 3, i+1)\n",
    "        if dist:\n",
    "            sns.histplot(df[column_names[i]], bins=20, kde=True)\n",
    "        if box:\n",
    "            sns.boxplot(df[column_names[i]])\n",
    "        \n",
    "    # plt.tight_layout()\n",
    "    plt.subplots_adjust(left=0.1,\n",
    "                    bottom=0.1, \n",
    "                    right=0.9, \n",
    "                    top=0.9, \n",
    "                    wspace=0.4, \n",
    "                    hspace=0.9)\n",
    "    plt.show()"
   ]
  },
  {
   "cell_type": "code",
   "execution_count": 5,
   "metadata": {},
   "outputs": [
    {
     "data": {
      "image/png": "[encoded data removed]",
      "text/plain": [
       "<Figure size 1440x2160 with 15 Axes>"
      ]
     },
     "metadata": {
      "needs_background": "light"
     },
     "output_type": "display_data"
    }
   ],
   "source": [
    "# Plotting the distribution for all of the collumns in our dataset.\n",
    "column_names = train_df.columns\n",
    "plot_dist_box(train_df, column_names)"
   ]
  },
  {
   "cell_type": "markdown",
   "metadata": {},
   "source": [
    "##### Some comments about the distributions \n",
    "\n",
    "Width, Moisture Content and Average Daily Temperature During Growth almost seems to have perfect normal distrubutions. Firmness and Length also follows normal distribution, but skewed by a tiny amount to the right.\n",
    "\n",
    "Weight, Pericarp Thickness, Seed Count, Capasicin Content, Vitamin C Content, Sugar Content and Scoville Heat Units have more of a right skewed distribution. "
   ]
  },
  {
   "cell_type": "code",
   "execution_count": 6,
   "metadata": {},
   "outputs": [
    {
     "data": {
      "image/png": "[encoded data removed]",
      "text/plain": [
       "<Figure size 1440x2160 with 15 Axes>"
      ]
     },
     "metadata": {
      "needs_background": "light"
     },
     "output_type": "display_data"
    }
   ],
   "source": [
    "# Plotting a box plots for all of the collumns in our dataset.\n",
    "plot_dist_box(train_df, column_names, dist=False, box=True)"
   ]
  },
  {
   "cell_type": "markdown",
   "metadata": {},
   "source": [
    "##### Some comments about the box plots \n",
    "\n",
    "From the box plots of different features we see clearly that there are outliers that exist in our dataset. For example the 2 data points in Vitamin C Conetent feature, or many of the ones that are in weight."
   ]
  },
  {
   "cell_type": "code",
   "execution_count": 7,
   "metadata": {},
   "outputs": [
    {
     "data": {
      "text/plain": [
       "Length (cm)                                            1\n",
       "Width (cm)                                             1\n",
       "Weight (g)                                             1\n",
       "Pericarp Thickness (mm)                                2\n",
       "Seed Count                                             1\n",
       "Capsaicin Content                                      1\n",
       "Vitamin C Content (mg)                                 0\n",
       "Sugar Content                                          1\n",
       "Moisture Content                                       0\n",
       "Firmness                                               1\n",
       "color                                                  1\n",
       "Harvest Time                                           0\n",
       "Average Daily Temperature During Growth (celcius)      0\n",
       "Average Temperature During Storage (celcius)         648\n",
       "Scoville Heat Units (SHU)                              0\n",
       "dtype: int64"
      ]
     },
     "execution_count": 7,
     "metadata": {},
     "output_type": "execute_result"
    }
   ],
   "source": [
    "# Cheking how many nan values exist in our train set.\n",
    "train_df.isna().sum()"
   ]
  },
  {
   "cell_type": "code",
   "execution_count": 8,
   "metadata": {},
   "outputs": [
    {
     "data": {
      "text/plain": [
       "Length (cm)                                            2\n",
       "Width (cm)                                             0\n",
       "Weight (g)                                             0\n",
       "Pericarp Thickness (mm)                                0\n",
       "Seed Count                                             0\n",
       "Capsaicin Content                                      1\n",
       "Vitamin C Content (mg)                                 0\n",
       "Sugar Content                                          0\n",
       "Moisture Content                                       1\n",
       "Firmness                                               2\n",
       "color                                                  0\n",
       "Harvest Time                                           0\n",
       "Average Daily Temperature During Growth (celcius)      0\n",
       "Average Temperature During Storage (celcius)         522\n",
       "dtype: int64"
      ]
     },
     "execution_count": 8,
     "metadata": {},
     "output_type": "execute_result"
    }
   ],
   "source": [
    "# Checking how many nan values exist in our test set.\n",
    "X_test.isna().sum()"
   ]
  },
  {
   "cell_type": "markdown",
   "metadata": {},
   "source": [
    "### Data cleaning and preprocessing"
   ]
  },
  {
   "cell_type": "code",
   "execution_count": 9,
   "metadata": {},
   "outputs": [],
   "source": [
    "# Creating the features and target sets.\n",
    "target = 'Scoville Heat Units (SHU)'\n",
    "X = train_df.drop(columns=[target])\n",
    "y = train_df[target]"
   ]
  },
  {
   "cell_type": "markdown",
   "metadata": {},
   "source": [
    "#### Dealing with categorical data\n",
    "\n",
    "The presence of categorical data in our sets requires us to either OneHotEncode them before training or use pipelines which will do it automatically for us. "
   ]
  },
  {
   "cell_type": "code",
   "execution_count": 10,
   "metadata": {},
   "outputs": [
    {
     "data": {
      "text/plain": [
       "['color', 'Harvest Time', 'Average Temperature During Storage (celcius)']"
      ]
     },
     "execution_count": 10,
     "metadata": {},
     "output_type": "execute_result"
    }
   ],
   "source": [
    "# Extracting the categorical column names in order to \n",
    "# use them in the pipeline later.\n",
    "categorical_columns = train_df.select_dtypes(include=['object']).columns.tolist()\n",
    "categorical_columns"
   ]
  },
  {
   "cell_type": "code",
   "execution_count": 11,
   "metadata": {},
   "outputs": [
    {
     "data": {
      "text/plain": [
       "['Length (cm)',\n",
       " 'Width (cm)',\n",
       " 'Weight (g)',\n",
       " 'Pericarp Thickness (mm)',\n",
       " 'Seed Count',\n",
       " 'Capsaicin Content',\n",
       " 'Vitamin C Content (mg)',\n",
       " 'Sugar Content',\n",
       " 'Moisture Content',\n",
       " 'Firmness',\n",
       " 'Average Daily Temperature During Growth (celcius)']"
      ]
     },
     "execution_count": 11,
     "metadata": {},
     "output_type": "execute_result"
    }
   ],
   "source": [
    "all_columns = X.columns\n",
    "\n",
    "# Extracting the numerical columns, to use them later on in the piplines. \n",
    "numerical_columns = [col for col in all_columns if col not in categorical_columns]\n",
    "numerical_columns"
   ]
  },
  {
   "cell_type": "markdown",
   "metadata": {},
   "source": [
    "#### Dealing with outliers"
   ]
  },
  {
   "cell_type": "code",
   "execution_count": 12,
   "metadata": {},
   "outputs": [
    {
     "name": "stdout",
     "output_type": "stream",
     "text": [
      "There are 1 number of outliers in feature Length (cm).\n",
      "There are 4 number of outliers in feature Width (cm).\n",
      "There are 14 number of outliers in feature Weight (g).\n",
      "There are 2 number of outliers in feature Pericarp Thickness (mm).\n",
      "There are 2 number of outliers in feature Seed Count.\n",
      "There are 12 number of outliers in feature Capsaicin Content.\n",
      "There are 2 number of outliers in feature Vitamin C Content (mg).\n",
      "There are 3 number of outliers in feature Sugar Content.\n",
      "There are 2 number of outliers in feature Moisture Content.\n",
      "There are 4 number of outliers in feature Firmness.\n",
      "There are 2 number of outliers in feature Average Daily Temperature During Growth (celcius).\n",
      "Total number of outliers:  46\n"
     ]
    }
   ],
   "source": [
    "# This function returns the indices of the outliers that are in each \n",
    "# feature/column of our dataset.\n",
    "def get_outliers(data, column_names):\n",
    "    outlier_indices = []\n",
    "    for i in column_names:\n",
    "        z_score = (data[i] - np.mean(data[i])) / np.std(data[i])\n",
    "        outliers = np.abs(z_score) > 3\n",
    "        outlier_indices.extend(data.index[outliers])\n",
    "        print(\"There are {0} number of outliers in feature {1}.\".format(np.sum(outliers), i))\n",
    "    unique_outliers = list(set(outlier_indices))\n",
    "    print(\"Total number of outliers: \", len(unique_outliers))\n",
    "    return unique_outliers\n",
    "\n",
    "# I will be using these indices returned by the function remove_outliers,\n",
    "# later on. In order to remove the outlier from the dataset.\n",
    "outlier_indices = get_outliers(X, numerical_columns)"
   ]
  },
  {
   "cell_type": "code",
   "execution_count": 13,
   "metadata": {},
   "outputs": [],
   "source": [
    "# Removing the outliers from our data.\n",
    "X = X.drop(outlier_indices)\n",
    "y = y.drop(outlier_indices)"
   ]
  },
  {
   "cell_type": "markdown",
   "metadata": {},
   "source": [
    "#### OneHotEncoding and scaling using piplines "
   ]
  },
  {
   "cell_type": "markdown",
   "metadata": {},
   "source": [
    "#### Dealing with NaN values\n",
    "\n",
    "There seems to be alot of NaN values in the feature, \"Average Temperature During Storage (celcius)\". Dropping all of the rows for which this feature has a NaN value would almost get rid of 65 percent of the data from our training set. We could either drop the entire feature from our train and test data sets, or we could use imputation to impute the missing values which according to the scikit learn documentation means \"to infer them from known part of the data.\" (https://scikit-learn.org/stable/modules/impute.html)"
   ]
  },
  {
   "cell_type": "code",
   "execution_count": 14,
   "metadata": {},
   "outputs": [],
   "source": [
    "# Defining a transformer for the numerical columns that are to be scaled.\n",
    "numerical_transformer = Pipeline(steps=[\n",
    "    ('imp_n', SimpleImputer(strategy='mean')),\n",
    "    ('scaler', StandardScaler()),\n",
    "    ('pca', PCA())\n",
    "    \n",
    "])\n",
    "\n",
    "# Defining a transformer for the categorical columns that are to be onehot encoded.\n",
    "categorical_transformer = Pipeline(steps=[\n",
    "    ('imp_c', SimpleImputer(strategy='most_frequent')),\n",
    "    ('onehot', OneHotEncoder(handle_unknown='ignore'))\n",
    "])\n",
    "\n",
    "\n",
    "# We then define a preprocessor so that we may pass it\n",
    "# into our models pipelines later.\n",
    "preprocessor = ColumnTransformer(\n",
    "    transformers=[\n",
    "        ('numerical', numerical_transformer, numerical_columns),\n",
    "        ('categorical', categorical_transformer, categorical_columns)\n",
    "    ]\n",
    " )"
   ]
  },
  {
   "cell_type": "markdown",
   "metadata": {},
   "source": [
    "### Modelling"
   ]
  },
  {
   "cell_type": "code",
   "execution_count": 15,
   "metadata": {},
   "outputs": [],
   "source": [
    "# Splitting the training data.\n",
    "X_train, X_val, y_train, y_val = train_test_split(X, y, test_size=0.3)"
   ]
  },
  {
   "cell_type": "markdown",
   "metadata": {},
   "source": [
    "#### Building Pipeline (A) PLSRegression"
   ]
  },
  {
   "cell_type": "code",
   "execution_count": 16,
   "metadata": {},
   "outputs": [
    {
     "data": {
      "text/plain": [
       "{'memory': None,\n",
       " 'steps': [('preprocessor',\n",
       "   ColumnTransformer(transformers=[('numerical',\n",
       "                                    Pipeline(steps=[('imp_n', SimpleImputer()),\n",
       "                                                    ('scaler', StandardScaler()),\n",
       "                                                    ('pca', PCA())]),\n",
       "                                    ['Length (cm)', 'Width (cm)', 'Weight (g)',\n",
       "                                     'Pericarp Thickness (mm)', 'Seed Count',\n",
       "                                     'Capsaicin Content', 'Vitamin C Content (mg)',\n",
       "                                     'Sugar Content', 'Moisture Content',\n",
       "                                     'Firmness',\n",
       "                                     'Average Daily Temperature During Growth '\n",
       "                                     '(celcius)']),\n",
       "                                   ('categorical',\n",
       "                                    Pipeline(steps=[('imp_c',\n",
       "                                                     SimpleImputer(strategy='most_frequent')),\n",
       "                                                    ('onehot',\n",
       "                                                     OneHotEncoder(handle_unknown='ignore'))]),\n",
       "                                    ['color', 'Harvest Time',\n",
       "                                     'Average Temperature During Storage '\n",
       "                                     '(celcius)'])])),\n",
       "  ('pls', PLSRegression())],\n",
       " 'verbose': False,\n",
       " 'preprocessor': ColumnTransformer(transformers=[('numerical',\n",
       "                                  Pipeline(steps=[('imp_n', SimpleImputer()),\n",
       "                                                  ('scaler', StandardScaler()),\n",
       "                                                  ('pca', PCA())]),\n",
       "                                  ['Length (cm)', 'Width (cm)', 'Weight (g)',\n",
       "                                   'Pericarp Thickness (mm)', 'Seed Count',\n",
       "                                   'Capsaicin Content', 'Vitamin C Content (mg)',\n",
       "                                   'Sugar Content', 'Moisture Content',\n",
       "                                   'Firmness',\n",
       "                                   'Average Daily Temperature During Growth '\n",
       "                                   '(celcius)']),\n",
       "                                 ('categorical',\n",
       "                                  Pipeline(steps=[('imp_c',\n",
       "                                                   SimpleImputer(strategy='most_frequent')),\n",
       "                                                  ('onehot',\n",
       "                                                   OneHotEncoder(handle_unknown='ignore'))]),\n",
       "                                  ['color', 'Harvest Time',\n",
       "                                   'Average Temperature During Storage '\n",
       "                                   '(celcius)'])]),\n",
       " 'pls': PLSRegression(),\n",
       " 'preprocessor__n_jobs': None,\n",
       " 'preprocessor__remainder': 'drop',\n",
       " 'preprocessor__sparse_threshold': 0.3,\n",
       " 'preprocessor__transformer_weights': None,\n",
       " 'preprocessor__transformers': [('numerical',\n",
       "   Pipeline(steps=[('imp_n', SimpleImputer()), ('scaler', StandardScaler()),\n",
       "                   ('pca', PCA())]),\n",
       "   ['Length (cm)',\n",
       "    'Width (cm)',\n",
       "    'Weight (g)',\n",
       "    'Pericarp Thickness (mm)',\n",
       "    'Seed Count',\n",
       "    'Capsaicin Content',\n",
       "    'Vitamin C Content (mg)',\n",
       "    'Sugar Content',\n",
       "    'Moisture Content',\n",
       "    'Firmness',\n",
       "    'Average Daily Temperature During Growth (celcius)']),\n",
       "  ('categorical',\n",
       "   Pipeline(steps=[('imp_c', SimpleImputer(strategy='most_frequent')),\n",
       "                   ('onehot', OneHotEncoder(handle_unknown='ignore'))]),\n",
       "   ['color', 'Harvest Time', 'Average Temperature During Storage (celcius)'])],\n",
       " 'preprocessor__verbose': False,\n",
       " 'preprocessor__verbose_feature_names_out': True,\n",
       " 'preprocessor__numerical': Pipeline(steps=[('imp_n', SimpleImputer()), ('scaler', StandardScaler()),\n",
       "                 ('pca', PCA())]),\n",
       " 'preprocessor__categorical': Pipeline(steps=[('imp_c', SimpleImputer(strategy='most_frequent')),\n",
       "                 ('onehot', OneHotEncoder(handle_unknown='ignore'))]),\n",
       " 'preprocessor__numerical__memory': None,\n",
       " 'preprocessor__numerical__steps': [('imp_n', SimpleImputer()),\n",
       "  ('scaler', StandardScaler()),\n",
       "  ('pca', PCA())],\n",
       " 'preprocessor__numerical__verbose': False,\n",
       " 'preprocessor__numerical__imp_n': SimpleImputer(),\n",
       " 'preprocessor__numerical__scaler': StandardScaler(),\n",
       " 'preprocessor__numerical__pca': PCA(),\n",
       " 'preprocessor__numerical__imp_n__add_indicator': False,\n",
       " 'preprocessor__numerical__imp_n__copy': True,\n",
       " 'preprocessor__numerical__imp_n__fill_value': None,\n",
       " 'preprocessor__numerical__imp_n__keep_empty_features': False,\n",
       " 'preprocessor__numerical__imp_n__missing_values': nan,\n",
       " 'preprocessor__numerical__imp_n__strategy': 'mean',\n",
       " 'preprocessor__numerical__scaler__copy': True,\n",
       " 'preprocessor__numerical__scaler__with_mean': True,\n",
       " 'preprocessor__numerical__scaler__with_std': True,\n",
       " 'preprocessor__numerical__pca__copy': True,\n",
       " 'preprocessor__numerical__pca__iterated_power': 'auto',\n",
       " 'preprocessor__numerical__pca__n_components': None,\n",
       " 'preprocessor__numerical__pca__n_oversamples': 10,\n",
       " 'preprocessor__numerical__pca__power_iteration_normalizer': 'auto',\n",
       " 'preprocessor__numerical__pca__random_state': None,\n",
       " 'preprocessor__numerical__pca__svd_solver': 'auto',\n",
       " 'preprocessor__numerical__pca__tol': 0.0,\n",
       " 'preprocessor__numerical__pca__whiten': False,\n",
       " 'preprocessor__categorical__memory': None,\n",
       " 'preprocessor__categorical__steps': [('imp_c',\n",
       "   SimpleImputer(strategy='most_frequent')),\n",
       "  ('onehot', OneHotEncoder(handle_unknown='ignore'))],\n",
       " 'preprocessor__categorical__verbose': False,\n",
       " 'preprocessor__categorical__imp_c': SimpleImputer(strategy='most_frequent'),\n",
       " 'preprocessor__categorical__onehot': OneHotEncoder(handle_unknown='ignore'),\n",
       " 'preprocessor__categorical__imp_c__add_indicator': False,\n",
       " 'preprocessor__categorical__imp_c__copy': True,\n",
       " 'preprocessor__categorical__imp_c__fill_value': None,\n",
       " 'preprocessor__categorical__imp_c__keep_empty_features': False,\n",
       " 'preprocessor__categorical__imp_c__missing_values': nan,\n",
       " 'preprocessor__categorical__imp_c__strategy': 'most_frequent',\n",
       " 'preprocessor__categorical__onehot__categories': 'auto',\n",
       " 'preprocessor__categorical__onehot__drop': None,\n",
       " 'preprocessor__categorical__onehot__dtype': numpy.float64,\n",
       " 'preprocessor__categorical__onehot__feature_name_combiner': 'concat',\n",
       " 'preprocessor__categorical__onehot__handle_unknown': 'ignore',\n",
       " 'preprocessor__categorical__onehot__max_categories': None,\n",
       " 'preprocessor__categorical__onehot__min_frequency': None,\n",
       " 'preprocessor__categorical__onehot__sparse_output': True,\n",
       " 'pls__copy': True,\n",
       " 'pls__max_iter': 500,\n",
       " 'pls__n_components': 2,\n",
       " 'pls__scale': True,\n",
       " 'pls__tol': 1e-06}"
      ]
     },
     "execution_count": 16,
     "metadata": {},
     "output_type": "execute_result"
    }
   ],
   "source": [
    "pipeline_pls = Pipeline([\n",
    "    ('preprocessor', preprocessor),\n",
    "    ('pls', PLSRegression())\n",
    "])\n",
    "\n",
    "pipeline_pls.get_params()"
   ]
  },
  {
   "cell_type": "code",
   "execution_count": 17,
   "metadata": {},
   "outputs": [],
   "source": [
    "pls_tols = [1e-04, 1e-05, 1e-07, 1e-08]\n",
    "pls_range = [1, 2, 3, 4]\n",
    "\n",
    "# Defining our PLSRegression parameter grid.\n",
    "param_grid_pls = [\n",
    "    {\n",
    "        'pls__n_components': pls_range,\n",
    "        'pls__tol': pls_tols\n",
    "    }\n",
    "]\n",
    "\n",
    "# Performing grid search cross validation with our pipeline_log_reg and the param_grid_lr.\n",
    "grid_search_pls = GridSearchCV(\n",
    "    estimator=pipeline_pls,\n",
    "    param_grid=param_grid_pls,\n",
    "    scoring='neg_mean_absolute_error',\n",
    "    cv=10,\n",
    "    n_jobs=-1\n",
    ")"
   ]
  },
  {
   "cell_type": "code",
   "execution_count": 18,
   "metadata": {},
   "outputs": [
    {
     "name": "stdout",
     "output_type": "stream",
     "text": [
      "-70940.67338197844\n",
      "{'pls__n_components': 4, 'pls__tol': 0.0001}\n"
     ]
    }
   ],
   "source": [
    "# Performing grid search on the training data.\n",
    "gs_pls_result = grid_search_pls.fit(X_train, y_train)\n",
    "print(grid_search_pls.best_score_)\n",
    "print(grid_search_pls.best_params_)"
   ]
  },
  {
   "cell_type": "code",
   "execution_count": 19,
   "metadata": {},
   "outputs": [
    {
     "data": {
      "text/plain": [
       "68784.10266334798"
      ]
     },
     "execution_count": 19,
     "metadata": {},
     "output_type": "execute_result"
    }
   ],
   "source": [
    "# Extracting the best estimator from our model \n",
    "# and using it on the validation data.\n",
    "pls_best = gs_pls_result.best_estimator_\n",
    "pls_best.fit(X_train, y_train)\n",
    "y_pred = pls_best.predict(X_val)\n",
    "# Calculating MAE\n",
    "mean_absolute_error(y_val, y_pred)"
   ]
  },
  {
   "cell_type": "markdown",
   "metadata": {},
   "source": [
    "##### LinearRegression with PCA "
   ]
  },
  {
   "cell_type": "code",
   "execution_count": 20,
   "metadata": {},
   "outputs": [
    {
     "data": {
      "text/plain": [
       "{'memory': None,\n",
       " 'steps': [('preprocessor',\n",
       "   ColumnTransformer(transformers=[('numerical',\n",
       "                                    Pipeline(steps=[('imp_n', SimpleImputer()),\n",
       "                                                    ('scaler', StandardScaler()),\n",
       "                                                    ('pca', PCA())]),\n",
       "                                    ['Length (cm)', 'Width (cm)', 'Weight (g)',\n",
       "                                     'Pericarp Thickness (mm)', 'Seed Count',\n",
       "                                     'Capsaicin Content', 'Vitamin C Content (mg)',\n",
       "                                     'Sugar Content', 'Moisture Content',\n",
       "                                     'Firmness',\n",
       "                                     'Average Daily Temperature During Growth '\n",
       "                                     '(celcius)']),\n",
       "                                   ('categorical',\n",
       "                                    Pipeline(steps=[('imp_c',\n",
       "                                                     SimpleImputer(strategy='most_frequent')),\n",
       "                                                    ('onehot',\n",
       "                                                     OneHotEncoder(handle_unknown='ignore'))]),\n",
       "                                    ['color', 'Harvest Time',\n",
       "                                     'Average Temperature During Storage '\n",
       "                                     '(celcius)'])])),\n",
       "  ('lin_reg', LinearRegression(n_jobs=-1))],\n",
       " 'verbose': False,\n",
       " 'preprocessor': ColumnTransformer(transformers=[('numerical',\n",
       "                                  Pipeline(steps=[('imp_n', SimpleImputer()),\n",
       "                                                  ('scaler', StandardScaler()),\n",
       "                                                  ('pca', PCA())]),\n",
       "                                  ['Length (cm)', 'Width (cm)', 'Weight (g)',\n",
       "                                   'Pericarp Thickness (mm)', 'Seed Count',\n",
       "                                   'Capsaicin Content', 'Vitamin C Content (mg)',\n",
       "                                   'Sugar Content', 'Moisture Content',\n",
       "                                   'Firmness',\n",
       "                                   'Average Daily Temperature During Growth '\n",
       "                                   '(celcius)']),\n",
       "                                 ('categorical',\n",
       "                                  Pipeline(steps=[('imp_c',\n",
       "                                                   SimpleImputer(strategy='most_frequent')),\n",
       "                                                  ('onehot',\n",
       "                                                   OneHotEncoder(handle_unknown='ignore'))]),\n",
       "                                  ['color', 'Harvest Time',\n",
       "                                   'Average Temperature During Storage '\n",
       "                                   '(celcius)'])]),\n",
       " 'lin_reg': LinearRegression(n_jobs=-1),\n",
       " 'preprocessor__n_jobs': None,\n",
       " 'preprocessor__remainder': 'drop',\n",
       " 'preprocessor__sparse_threshold': 0.3,\n",
       " 'preprocessor__transformer_weights': None,\n",
       " 'preprocessor__transformers': [('numerical',\n",
       "   Pipeline(steps=[('imp_n', SimpleImputer()), ('scaler', StandardScaler()),\n",
       "                   ('pca', PCA())]),\n",
       "   ['Length (cm)',\n",
       "    'Width (cm)',\n",
       "    'Weight (g)',\n",
       "    'Pericarp Thickness (mm)',\n",
       "    'Seed Count',\n",
       "    'Capsaicin Content',\n",
       "    'Vitamin C Content (mg)',\n",
       "    'Sugar Content',\n",
       "    'Moisture Content',\n",
       "    'Firmness',\n",
       "    'Average Daily Temperature During Growth (celcius)']),\n",
       "  ('categorical',\n",
       "   Pipeline(steps=[('imp_c', SimpleImputer(strategy='most_frequent')),\n",
       "                   ('onehot', OneHotEncoder(handle_unknown='ignore'))]),\n",
       "   ['color', 'Harvest Time', 'Average Temperature During Storage (celcius)'])],\n",
       " 'preprocessor__verbose': False,\n",
       " 'preprocessor__verbose_feature_names_out': True,\n",
       " 'preprocessor__numerical': Pipeline(steps=[('imp_n', SimpleImputer()), ('scaler', StandardScaler()),\n",
       "                 ('pca', PCA())]),\n",
       " 'preprocessor__categorical': Pipeline(steps=[('imp_c', SimpleImputer(strategy='most_frequent')),\n",
       "                 ('onehot', OneHotEncoder(handle_unknown='ignore'))]),\n",
       " 'preprocessor__numerical__memory': None,\n",
       " 'preprocessor__numerical__steps': [('imp_n', SimpleImputer()),\n",
       "  ('scaler', StandardScaler()),\n",
       "  ('pca', PCA())],\n",
       " 'preprocessor__numerical__verbose': False,\n",
       " 'preprocessor__numerical__imp_n': SimpleImputer(),\n",
       " 'preprocessor__numerical__scaler': StandardScaler(),\n",
       " 'preprocessor__numerical__pca': PCA(),\n",
       " 'preprocessor__numerical__imp_n__add_indicator': False,\n",
       " 'preprocessor__numerical__imp_n__copy': True,\n",
       " 'preprocessor__numerical__imp_n__fill_value': None,\n",
       " 'preprocessor__numerical__imp_n__keep_empty_features': False,\n",
       " 'preprocessor__numerical__imp_n__missing_values': nan,\n",
       " 'preprocessor__numerical__imp_n__strategy': 'mean',\n",
       " 'preprocessor__numerical__scaler__copy': True,\n",
       " 'preprocessor__numerical__scaler__with_mean': True,\n",
       " 'preprocessor__numerical__scaler__with_std': True,\n",
       " 'preprocessor__numerical__pca__copy': True,\n",
       " 'preprocessor__numerical__pca__iterated_power': 'auto',\n",
       " 'preprocessor__numerical__pca__n_components': None,\n",
       " 'preprocessor__numerical__pca__n_oversamples': 10,\n",
       " 'preprocessor__numerical__pca__power_iteration_normalizer': 'auto',\n",
       " 'preprocessor__numerical__pca__random_state': None,\n",
       " 'preprocessor__numerical__pca__svd_solver': 'auto',\n",
       " 'preprocessor__numerical__pca__tol': 0.0,\n",
       " 'preprocessor__numerical__pca__whiten': False,\n",
       " 'preprocessor__categorical__memory': None,\n",
       " 'preprocessor__categorical__steps': [('imp_c',\n",
       "   SimpleImputer(strategy='most_frequent')),\n",
       "  ('onehot', OneHotEncoder(handle_unknown='ignore'))],\n",
       " 'preprocessor__categorical__verbose': False,\n",
       " 'preprocessor__categorical__imp_c': SimpleImputer(strategy='most_frequent'),\n",
       " 'preprocessor__categorical__onehot': OneHotEncoder(handle_unknown='ignore'),\n",
       " 'preprocessor__categorical__imp_c__add_indicator': False,\n",
       " 'preprocessor__categorical__imp_c__copy': True,\n",
       " 'preprocessor__categorical__imp_c__fill_value': None,\n",
       " 'preprocessor__categorical__imp_c__keep_empty_features': False,\n",
       " 'preprocessor__categorical__imp_c__missing_values': nan,\n",
       " 'preprocessor__categorical__imp_c__strategy': 'most_frequent',\n",
       " 'preprocessor__categorical__onehot__categories': 'auto',\n",
       " 'preprocessor__categorical__onehot__drop': None,\n",
       " 'preprocessor__categorical__onehot__dtype': numpy.float64,\n",
       " 'preprocessor__categorical__onehot__feature_name_combiner': 'concat',\n",
       " 'preprocessor__categorical__onehot__handle_unknown': 'ignore',\n",
       " 'preprocessor__categorical__onehot__max_categories': None,\n",
       " 'preprocessor__categorical__onehot__min_frequency': None,\n",
       " 'preprocessor__categorical__onehot__sparse_output': True,\n",
       " 'lin_reg__copy_X': True,\n",
       " 'lin_reg__fit_intercept': True,\n",
       " 'lin_reg__n_jobs': -1,\n",
       " 'lin_reg__positive': False}"
      ]
     },
     "execution_count": 20,
     "metadata": {},
     "output_type": "execute_result"
    }
   ],
   "source": [
    "pipeline_lr = Pipeline([\n",
    "    ('preprocessor', preprocessor),\n",
    "    ('lin_reg', LinearRegression(n_jobs=-1))\n",
    "])\n",
    "    \n",
    "pipeline_lr.get_params()"
   ]
  },
  {
   "cell_type": "code",
   "execution_count": 21,
   "metadata": {},
   "outputs": [],
   "source": [
    "pca_range = [0.84, 0.95, 0.97]\n",
    "\n",
    "param_grid_lr = [{\n",
    "    'preprocessor__numerical__pca__n_components': pca_range\n",
    "}]\n",
    "\n",
    "grid_search_lr = GridSearchCV(estimator=pipeline_lr,\n",
    "                             param_grid=param_grid_lr,\n",
    "                             cv=10, \n",
    "                             scoring='neg_mean_absolute_error',\n",
    "                             n_jobs=-1)"
   ]
  },
  {
   "cell_type": "code",
   "execution_count": 22,
   "metadata": {},
   "outputs": [
    {
     "name": "stdout",
     "output_type": "stream",
     "text": [
      "-70479.75661415422\n",
      "{'preprocessor__numerical__pca__n_components': 0.84}\n"
     ]
    }
   ],
   "source": [
    "gs_lr_result = grid_search_lr.fit(X_train, y_train)\n",
    "print(gs_lr_result.best_score_)\n",
    "print(gs_lr_result.best_params_)"
   ]
  },
  {
   "cell_type": "code",
   "execution_count": 23,
   "metadata": {},
   "outputs": [
    {
     "data": {
      "text/plain": [
       "68771.36779216121"
      ]
     },
     "execution_count": 23,
     "metadata": {},
     "output_type": "execute_result"
    }
   ],
   "source": [
    "lr_best = gs_lr_result.best_estimator_\n",
    "lr_best.fit(X_train, y_train)\n",
    "y_lr_pred_val = lr_best.predict(X_val)\n",
    "mean_absolute_error(y_val, y_lr_pred_val)"
   ]
  },
  {
   "cell_type": "markdown",
   "metadata": {},
   "source": [
    "##### Building pipeline (B) RandomForestClassifier"
   ]
  },
  {
   "cell_type": "code",
   "execution_count": 24,
   "metadata": {},
   "outputs": [
    {
     "data": {
      "text/plain": [
       "Text(0.5, 1.0, 'Scoville Heat Units (SHU) Distrubution')"
      ]
     },
     "execution_count": 24,
     "metadata": {},
     "output_type": "execute_result"
    },
    {
     "data": {
      "image/png": "[encoded data removed]",
      "text/plain": [
       "<Figure size 432x288 with 1 Axes>"
      ]
     },
     "metadata": {
      "needs_background": "light"
     },
     "output_type": "display_data"
    }
   ],
   "source": [
    "# I am going to create a copy of my original training set.\n",
    "train_bin = train_df.copy()\n",
    "\n",
    "# This code is like the code of 04_binning.ipynb. Credits is due to Timmo.\n",
    "target = 'Scoville Heat Units (SHU)'\n",
    "train_bin[target].plot.hist(bins=20).set_title('Scoville Heat Units (SHU) Distrubution')"
   ]
  },
  {
   "cell_type": "code",
   "execution_count": 25,
   "metadata": {
    "scrolled": true
   },
   "outputs": [
    {
     "name": "stdout",
     "output_type": "stream",
     "text": [
      "[     0 432108  66874  29719 147823  77110 276475 157704 166245  58615\n",
      " 177254  19455 112185  70357  95550 139678  11073  65587 171562  65067\n",
      "  62490  10172 107795 287599  78741  15854 432624  89968 233770 101095\n",
      "  39641  65290   7797 309904  84096 157684  82222  85539 167172 273311\n",
      " 364660 291115 251131  91500  35256 172834 111458 133879 198388 173179\n",
      " 327311  74610 184236 207744 356105 296592  27585 325317 125460 167752\n",
      "  58987   6716  32040 175253 214232 215250 194372 234977 108344 102043\n",
      " 144588 103984  84638 272898 126441  14678 130518 184130  75880 124155\n",
      " 325535  52444 219680 169990 148287 117246  64004  30626 326484  48005\n",
      "  42585 119457 170738 257467 127130 188240 230842 278771   6106 249528\n",
      " 147943  91151 167749 324398  22186 145222 218160  71631  45280 124393\n",
      " 375753 266060 170238 188279 242253 118905 131610  95980 158035 203647\n",
      "   1714 306173 180623 145929 211109  40922  14965 149133  73551  85267\n",
      "  19013 270561  57206 164227 146876 225338  98736 123540 112518  44556\n",
      " 278758 102183 166003  67998 169736   1534  31159  15516  23503 103616\n",
      " 237017 139227 243248 146652 221882  52747 398835 154791 372109 344549\n",
      " 240380  10384 132690  79908 191628  75262 288749 339507 279792  66672\n",
      "  43387 286964 142687 313668  50427  85987 194005 473539 254525  43416\n",
      "  88876 180055 139162  59230 308483 298720   1518 119812  66114   3114\n",
      "  12915  70409 109642  55429 211822 173723  45071 139116 267321  91874\n",
      " 256280  31225 261146 319536  94101 144253 152967 386437 110131  30934\n",
      " 165191 499999 442400  18417  51547 209682  97274 156545 102752  21215\n",
      " 117516  33058  33592 251578 121753 164065 102396  54507  23780 182512\n",
      "  35973 271540 127697  31623 382951  19750 193364 276758 230979  21623\n",
      " 214219  11345 324048 181664 144758 124463   5194  34857 454097 101508\n",
      "   3815  57985  95404 246764 235404  28515  41633 184461 137877  10957\n",
      "  66005 148384  31985 268604  25682 122022  23848 224492  98738  88924\n",
      " 139668 226851 165922 163067 233553 257096  94749 219183 342768  90695\n",
      " 121493 102468 123684  84167 155814 105966 131337 332573  43278 103669\n",
      " 157651  87347 195788  56258 107277  91652 309088 233490 216676 358688\n",
      "   8026 258557  70008  13418  85372  26874 109217 137916 223223 141149\n",
      "  27972  35129 289920 188487 147828 177128 213265 267262 276493  41547\n",
      " 133533  42807 155936 160999 168700 275842 357921  37785 252623  37007\n",
      "  50829 123585    383 419238 128183 106103 298240  35254  45907 471089\n",
      "  14460 246110  77569  72814  30522  52510 278101  67067 100812  34109\n",
      " 204404 114241 145385 281937 131869  53548  14152 168169  70268  98133\n",
      " 211675  19976 373836  66184  24893 312763 242985  16842 229069 357888\n",
      "  62151  92553  79713   2127  45006   8558 113438 102876 182864 178168\n",
      " 151220  31223  81050 164552 214924 210260   2216 106338 181919   5208\n",
      " 245047 259978  54110  25590  56931 143941 335699 288639   3278 314524\n",
      "  13915  65069  75876 368657 125632 173831 150978 211977  87299 150998\n",
      "  76875 123575  43970  57429  12662 222628 370145 142021 194915  49749\n",
      " 163007  34363  17635  40016   4105 206641 136121 203164 133112  85285\n",
      "  95454 127852 299710 114059  69760     27  18542 236784 302171  56483\n",
      " 257689 145190  95700  38975 466552 215749 164838  76926 250804 220951\n",
      "    217   6812 191168 247593 183869 147293  71684  83643 178522 387938]\n"
     ]
    },
    {
     "data": {
      "text/plain": [
       "<Axes: ylabel='Frequency'>"
      ]
     },
     "execution_count": 25,
     "metadata": {},
     "output_type": "execute_result"
    },
    {
     "data": {
      "image/png": "[encoded data removed]",
      "text/plain": [
       "<Figure size 432x288 with 1 Axes>"
      ]
     },
     "metadata": {
      "needs_background": "light"
     },
     "output_type": "display_data"
    }
   ],
   "source": [
    "# This code is like the code of 04_binning.ipynb. Credits is due to Timmo.\n",
    "num_bins = 500000\n",
    "train_bin[target], bins = pd.cut(train_bin[target],\n",
    "                                 num_bins, labels=False, \n",
    "                                 retbins=True) # include_lowest=True)\n",
    "bins_edges = np.unique(bins)\n",
    "print(train_bin[target].unique())\n",
    "train_bin[target].plot.hist(rwidth=0.9)"
   ]
  },
  {
   "cell_type": "code",
   "execution_count": 26,
   "metadata": {},
   "outputs": [],
   "source": [
    "X_bin = train_bin.drop(columns=target) \n",
    "y_bin = train_bin[target]"
   ]
  },
  {
   "cell_type": "code",
   "execution_count": 27,
   "metadata": {},
   "outputs": [],
   "source": [
    "# Creating test validation splits.\n",
    "X_train_b, X_val_b, y_train_b, y_val_b = train_test_split(X_bin, y_bin, test_size=0.3)"
   ]
  },
  {
   "cell_type": "code",
   "execution_count": 28,
   "metadata": {},
   "outputs": [
    {
     "data": {
      "text/plain": [
       "{'memory': None,\n",
       " 'steps': [('preprocessor',\n",
       "   ColumnTransformer(transformers=[('numerical',\n",
       "                                    Pipeline(steps=[('imp_n', SimpleImputer()),\n",
       "                                                    ('scaler', StandardScaler()),\n",
       "                                                    ('pca', PCA())]),\n",
       "                                    ['Length (cm)', 'Width (cm)', 'Weight (g)',\n",
       "                                     'Pericarp Thickness (mm)', 'Seed Count',\n",
       "                                     'Capsaicin Content', 'Vitamin C Content (mg)',\n",
       "                                     'Sugar Content', 'Moisture Content',\n",
       "                                     'Firmness',\n",
       "                                     'Average Daily Temperature During Growth '\n",
       "                                     '(celcius)']),\n",
       "                                   ('categorical',\n",
       "                                    Pipeline(steps=[('imp_c',\n",
       "                                                     SimpleImputer(strategy='most_frequent')),\n",
       "                                                    ('onehot',\n",
       "                                                     OneHotEncoder(handle_unknown='ignore'))]),\n",
       "                                    ['color', 'Harvest Time',\n",
       "                                     'Average Temperature During Storage '\n",
       "                                     '(celcius)'])])),\n",
       "  ('rf', RandomForestClassifier())],\n",
       " 'verbose': False,\n",
       " 'preprocessor': ColumnTransformer(transformers=[('numerical',\n",
       "                                  Pipeline(steps=[('imp_n', SimpleImputer()),\n",
       "                                                  ('scaler', StandardScaler()),\n",
       "                                                  ('pca', PCA())]),\n",
       "                                  ['Length (cm)', 'Width (cm)', 'Weight (g)',\n",
       "                                   'Pericarp Thickness (mm)', 'Seed Count',\n",
       "                                   'Capsaicin Content', 'Vitamin C Content (mg)',\n",
       "                                   'Sugar Content', 'Moisture Content',\n",
       "                                   'Firmness',\n",
       "                                   'Average Daily Temperature During Growth '\n",
       "                                   '(celcius)']),\n",
       "                                 ('categorical',\n",
       "                                  Pipeline(steps=[('imp_c',\n",
       "                                                   SimpleImputer(strategy='most_frequent')),\n",
       "                                                  ('onehot',\n",
       "                                                   OneHotEncoder(handle_unknown='ignore'))]),\n",
       "                                  ['color', 'Harvest Time',\n",
       "                                   'Average Temperature During Storage '\n",
       "                                   '(celcius)'])]),\n",
       " 'rf': RandomForestClassifier(),\n",
       " 'preprocessor__n_jobs': None,\n",
       " 'preprocessor__remainder': 'drop',\n",
       " 'preprocessor__sparse_threshold': 0.3,\n",
       " 'preprocessor__transformer_weights': None,\n",
       " 'preprocessor__transformers': [('numerical',\n",
       "   Pipeline(steps=[('imp_n', SimpleImputer()), ('scaler', StandardScaler()),\n",
       "                   ('pca', PCA())]),\n",
       "   ['Length (cm)',\n",
       "    'Width (cm)',\n",
       "    'Weight (g)',\n",
       "    'Pericarp Thickness (mm)',\n",
       "    'Seed Count',\n",
       "    'Capsaicin Content',\n",
       "    'Vitamin C Content (mg)',\n",
       "    'Sugar Content',\n",
       "    'Moisture Content',\n",
       "    'Firmness',\n",
       "    'Average Daily Temperature During Growth (celcius)']),\n",
       "  ('categorical',\n",
       "   Pipeline(steps=[('imp_c', SimpleImputer(strategy='most_frequent')),\n",
       "                   ('onehot', OneHotEncoder(handle_unknown='ignore'))]),\n",
       "   ['color', 'Harvest Time', 'Average Temperature During Storage (celcius)'])],\n",
       " 'preprocessor__verbose': False,\n",
       " 'preprocessor__verbose_feature_names_out': True,\n",
       " 'preprocessor__numerical': Pipeline(steps=[('imp_n', SimpleImputer()), ('scaler', StandardScaler()),\n",
       "                 ('pca', PCA())]),\n",
       " 'preprocessor__categorical': Pipeline(steps=[('imp_c', SimpleImputer(strategy='most_frequent')),\n",
       "                 ('onehot', OneHotEncoder(handle_unknown='ignore'))]),\n",
       " 'preprocessor__numerical__memory': None,\n",
       " 'preprocessor__numerical__steps': [('imp_n', SimpleImputer()),\n",
       "  ('scaler', StandardScaler()),\n",
       "  ('pca', PCA())],\n",
       " 'preprocessor__numerical__verbose': False,\n",
       " 'preprocessor__numerical__imp_n': SimpleImputer(),\n",
       " 'preprocessor__numerical__scaler': StandardScaler(),\n",
       " 'preprocessor__numerical__pca': PCA(),\n",
       " 'preprocessor__numerical__imp_n__add_indicator': False,\n",
       " 'preprocessor__numerical__imp_n__copy': True,\n",
       " 'preprocessor__numerical__imp_n__fill_value': None,\n",
       " 'preprocessor__numerical__imp_n__keep_empty_features': False,\n",
       " 'preprocessor__numerical__imp_n__missing_values': nan,\n",
       " 'preprocessor__numerical__imp_n__strategy': 'mean',\n",
       " 'preprocessor__numerical__scaler__copy': True,\n",
       " 'preprocessor__numerical__scaler__with_mean': True,\n",
       " 'preprocessor__numerical__scaler__with_std': True,\n",
       " 'preprocessor__numerical__pca__copy': True,\n",
       " 'preprocessor__numerical__pca__iterated_power': 'auto',\n",
       " 'preprocessor__numerical__pca__n_components': None,\n",
       " 'preprocessor__numerical__pca__n_oversamples': 10,\n",
       " 'preprocessor__numerical__pca__power_iteration_normalizer': 'auto',\n",
       " 'preprocessor__numerical__pca__random_state': None,\n",
       " 'preprocessor__numerical__pca__svd_solver': 'auto',\n",
       " 'preprocessor__numerical__pca__tol': 0.0,\n",
       " 'preprocessor__numerical__pca__whiten': False,\n",
       " 'preprocessor__categorical__memory': None,\n",
       " 'preprocessor__categorical__steps': [('imp_c',\n",
       "   SimpleImputer(strategy='most_frequent')),\n",
       "  ('onehot', OneHotEncoder(handle_unknown='ignore'))],\n",
       " 'preprocessor__categorical__verbose': False,\n",
       " 'preprocessor__categorical__imp_c': SimpleImputer(strategy='most_frequent'),\n",
       " 'preprocessor__categorical__onehot': OneHotEncoder(handle_unknown='ignore'),\n",
       " 'preprocessor__categorical__imp_c__add_indicator': False,\n",
       " 'preprocessor__categorical__imp_c__copy': True,\n",
       " 'preprocessor__categorical__imp_c__fill_value': None,\n",
       " 'preprocessor__categorical__imp_c__keep_empty_features': False,\n",
       " 'preprocessor__categorical__imp_c__missing_values': nan,\n",
       " 'preprocessor__categorical__imp_c__strategy': 'most_frequent',\n",
       " 'preprocessor__categorical__onehot__categories': 'auto',\n",
       " 'preprocessor__categorical__onehot__drop': None,\n",
       " 'preprocessor__categorical__onehot__dtype': numpy.float64,\n",
       " 'preprocessor__categorical__onehot__feature_name_combiner': 'concat',\n",
       " 'preprocessor__categorical__onehot__handle_unknown': 'ignore',\n",
       " 'preprocessor__categorical__onehot__max_categories': None,\n",
       " 'preprocessor__categorical__onehot__min_frequency': None,\n",
       " 'preprocessor__categorical__onehot__sparse_output': True,\n",
       " 'rf__bootstrap': True,\n",
       " 'rf__ccp_alpha': 0.0,\n",
       " 'rf__class_weight': None,\n",
       " 'rf__criterion': 'gini',\n",
       " 'rf__max_depth': None,\n",
       " 'rf__max_features': 'sqrt',\n",
       " 'rf__max_leaf_nodes': None,\n",
       " 'rf__max_samples': None,\n",
       " 'rf__min_impurity_decrease': 0.0,\n",
       " 'rf__min_samples_leaf': 1,\n",
       " 'rf__min_samples_split': 2,\n",
       " 'rf__min_weight_fraction_leaf': 0.0,\n",
       " 'rf__monotonic_cst': None,\n",
       " 'rf__n_estimators': 100,\n",
       " 'rf__n_jobs': None,\n",
       " 'rf__oob_score': False,\n",
       " 'rf__random_state': None,\n",
       " 'rf__verbose': 0,\n",
       " 'rf__warm_start': False}"
      ]
     },
     "execution_count": 28,
     "metadata": {},
     "output_type": "execute_result"
    }
   ],
   "source": [
    "# Defining our RandomForestClassifier pipeline.\n",
    "pipeline_rf = Pipeline([\n",
    "    ('preprocessor', preprocessor),\n",
    "    ('rf', RandomForestClassifier())\n",
    "])\n",
    "\n",
    "pipeline_rf.get_params()"
   ]
  },
  {
   "cell_type": "code",
   "execution_count": 29,
   "metadata": {},
   "outputs": [],
   "source": [
    "n_estimators_range = [100, 250, 350]\n",
    "max_depth_range = [None, 2, 6]\n",
    "\n",
    "# Defining the parameter grid, \n",
    "# which will be passed into GridSearchCV in order to find optimal parameters.\n",
    "param_grid_rf = [{\n",
    "    'preprocessor__numerical__pca__n_components': pca_range,\n",
    "    'rf__n_estimators': n_estimators_range,\n",
    "    'rf__max_depth': max_depth_range\n",
    "}]\n",
    "\n",
    "grid_search_rf = GridSearchCV(estimator=pipeline_rf,\n",
    "                             param_grid=param_grid_rf,\n",
    "                             cv=10,\n",
    "                             scoring='neg_mean_absolute_error')"
   ]
  },
  {
   "cell_type": "code",
   "execution_count": 30,
   "metadata": {
    "scrolled": true
   },
   "outputs": [
    {
     "name": "stderr",
     "output_type": "stream",
     "text": [
      "/home/idris/.local/lib/python3.10/site-packages/sklearn/model_selection/_split.py:737: UserWarning: The least populated class in y has only 1 members, which is less than n_splits=10.\n",
      "  warnings.warn(\n"
     ]
    },
    {
     "name": "stdout",
     "output_type": "stream",
     "text": [
      "-63965.67428571428\n",
      "{'preprocessor__numerical__pca__n_components': 0.84, 'rf__max_depth': None, 'rf__n_estimators': 350}\n"
     ]
    }
   ],
   "source": [
    "gs_rf_result = grid_search_rf.fit(X_train_b, y_train_b)\n",
    "print(gs_rf_result.best_score_)\n",
    "print(gs_rf_result.best_params_)"
   ]
  },
  {
   "cell_type": "code",
   "execution_count": 31,
   "metadata": {},
   "outputs": [
    {
     "data": {
      "text/plain": [
       "72015.00333333333"
      ]
     },
     "execution_count": 31,
     "metadata": {},
     "output_type": "execute_result"
    }
   ],
   "source": [
    "rf_best = gs_rf_result.best_estimator_\n",
    "rf_best.fit(X_train_b, y_train_b)\n",
    "y_pred_rf_val = rf_best.predict(X_val_b)\n",
    "mean_absolute_error(y_pred_rf_val, y_val_b)"
   ]
  },
  {
   "cell_type": "markdown",
   "metadata": {},
   "source": [
    "##### Number of bins \n",
    "\n",
    "I noticed that using large number of bins resulted in a very high MAE for the validation set. And using a small number of bins resulted in a very small MAE. However when both of the predictions where uploaded to kaggle it gave a poor MAE. Using 500000 bins gave me the best results."
   ]
  },
  {
   "cell_type": "markdown",
   "metadata": {},
   "source": [
    "#### Building pipeline (C)\n",
    "\n",
    "This task was a little bit confusing for me, but here is my thought process. First I will use the training set in order create a new discrete target variable Spicy which will be based on the SHU of the peppers. So if the the SHU > 0, than it will say 1 and if SHU <= 0 than it will say 0. For the second step I will use the peppers that were classified as spicy to estimate their SHU, using a regression model. Lastly I will combine the result of both models."
   ]
  },
  {
   "cell_type": "code",
   "execution_count": 32,
   "metadata": {},
   "outputs": [
    {
     "data": {
      "text/html": [
       "<div>\n",
       "<style scoped>\n",
       "    .dataframe tbody tr th:only-of-type {\n",
       "        vertical-align: middle;\n",
       "    }\n",
       "\n",
       "    .dataframe tbody tr th {\n",
       "        vertical-align: top;\n",
       "    }\n",
       "\n",
       "    .dataframe thead th {\n",
       "        text-align: right;\n",
       "    }\n",
       "</style>\n",
       "<table border=\"1\" class=\"dataframe\">\n",
       "  <thead>\n",
       "    <tr style=\"text-align: right;\">\n",
       "      <th></th>\n",
       "      <th>Length (cm)</th>\n",
       "      <th>Width (cm)</th>\n",
       "      <th>Weight (g)</th>\n",
       "      <th>Pericarp Thickness (mm)</th>\n",
       "      <th>Seed Count</th>\n",
       "      <th>Capsaicin Content</th>\n",
       "      <th>Vitamin C Content (mg)</th>\n",
       "      <th>Sugar Content</th>\n",
       "      <th>Moisture Content</th>\n",
       "      <th>Firmness</th>\n",
       "      <th>color</th>\n",
       "      <th>Harvest Time</th>\n",
       "      <th>Average Daily Temperature During Growth (celcius)</th>\n",
       "      <th>Average Temperature During Storage (celcius)</th>\n",
       "      <th>Scoville Heat Units (SHU)</th>\n",
       "      <th>Spicy</th>\n",
       "    </tr>\n",
       "  </thead>\n",
       "  <tbody>\n",
       "    <tr>\n",
       "      <th>0</th>\n",
       "      <td>17.37</td>\n",
       "      <td>5.42</td>\n",
       "      <td>94.30</td>\n",
       "      <td>4.90</td>\n",
       "      <td>193.93</td>\n",
       "      <td>3.21</td>\n",
       "      <td>173.59</td>\n",
       "      <td>6.15</td>\n",
       "      <td>88.59</td>\n",
       "      <td>3.40</td>\n",
       "      <td>red</td>\n",
       "      <td>Midday</td>\n",
       "      <td>8.68</td>\n",
       "      <td>5-6</td>\n",
       "      <td>0.00</td>\n",
       "      <td>0</td>\n",
       "    </tr>\n",
       "    <tr>\n",
       "      <th>1</th>\n",
       "      <td>27.78</td>\n",
       "      <td>4.75</td>\n",
       "      <td>262.71</td>\n",
       "      <td>6.56</td>\n",
       "      <td>186.29</td>\n",
       "      <td>8.19</td>\n",
       "      <td>100.41</td>\n",
       "      <td>2.36</td>\n",
       "      <td>111.20</td>\n",
       "      <td>5.45</td>\n",
       "      <td>green</td>\n",
       "      <td>Midday</td>\n",
       "      <td>22.44</td>\n",
       "      <td>NaN</td>\n",
       "      <td>0.00</td>\n",
       "      <td>0</td>\n",
       "    </tr>\n",
       "    <tr>\n",
       "      <th>2</th>\n",
       "      <td>6.17</td>\n",
       "      <td>3.51</td>\n",
       "      <td>66.72</td>\n",
       "      <td>7.96</td>\n",
       "      <td>298.81</td>\n",
       "      <td>4.69</td>\n",
       "      <td>125.91</td>\n",
       "      <td>6.75</td>\n",
       "      <td>72.98</td>\n",
       "      <td>2.77</td>\n",
       "      <td>red</td>\n",
       "      <td>Midday</td>\n",
       "      <td>24.99</td>\n",
       "      <td>NaN</td>\n",
       "      <td>455995.06</td>\n",
       "      <td>1</td>\n",
       "    </tr>\n",
       "    <tr>\n",
       "      <th>3</th>\n",
       "      <td>6.12</td>\n",
       "      <td>6.07</td>\n",
       "      <td>51.24</td>\n",
       "      <td>4.57</td>\n",
       "      <td>39.36</td>\n",
       "      <td>2.76</td>\n",
       "      <td>143.54</td>\n",
       "      <td>5.93</td>\n",
       "      <td>63.93</td>\n",
       "      <td>1.62</td>\n",
       "      <td>yellow</td>\n",
       "      <td>Midday</td>\n",
       "      <td>13.05</td>\n",
       "      <td>NaN</td>\n",
       "      <td>0.00</td>\n",
       "      <td>0</td>\n",
       "    </tr>\n",
       "    <tr>\n",
       "      <th>4</th>\n",
       "      <td>28.58</td>\n",
       "      <td>4.84</td>\n",
       "      <td>166.51</td>\n",
       "      <td>3.07</td>\n",
       "      <td>194.07</td>\n",
       "      <td>7.01</td>\n",
       "      <td>193.76</td>\n",
       "      <td>2.85</td>\n",
       "      <td>88.19</td>\n",
       "      <td>3.99</td>\n",
       "      <td>red</td>\n",
       "      <td>Midday</td>\n",
       "      <td>27.08</td>\n",
       "      <td>NaN</td>\n",
       "      <td>0.00</td>\n",
       "      <td>0</td>\n",
       "    </tr>\n",
       "  </tbody>\n",
       "</table>\n",
       "</div>"
      ],
      "text/plain": [
       "   Length (cm)  Width (cm)  Weight (g)  Pericarp Thickness (mm)  Seed Count  \\\n",
       "0        17.37        5.42       94.30                     4.90      193.93   \n",
       "1        27.78        4.75      262.71                     6.56      186.29   \n",
       "2         6.17        3.51       66.72                     7.96      298.81   \n",
       "3         6.12        6.07       51.24                     4.57       39.36   \n",
       "4        28.58        4.84      166.51                     3.07      194.07   \n",
       "\n",
       "   Capsaicin Content  Vitamin C Content (mg)  Sugar Content  Moisture Content  \\\n",
       "0               3.21                  173.59           6.15             88.59   \n",
       "1               8.19                  100.41           2.36            111.20   \n",
       "2               4.69                  125.91           6.75             72.98   \n",
       "3               2.76                  143.54           5.93             63.93   \n",
       "4               7.01                  193.76           2.85             88.19   \n",
       "\n",
       "   Firmness   color Harvest Time  \\\n",
       "0      3.40     red       Midday   \n",
       "1      5.45   green       Midday   \n",
       "2      2.77     red       Midday   \n",
       "3      1.62  yellow       Midday   \n",
       "4      3.99     red       Midday   \n",
       "\n",
       "   Average Daily Temperature During Growth (celcius)  \\\n",
       "0                                               8.68   \n",
       "1                                              22.44   \n",
       "2                                              24.99   \n",
       "3                                              13.05   \n",
       "4                                              27.08   \n",
       "\n",
       "  Average Temperature During Storage (celcius)  Scoville Heat Units (SHU)  \\\n",
       "0                                          5-6                       0.00   \n",
       "1                                          NaN                       0.00   \n",
       "2                                          NaN                  455995.06   \n",
       "3                                          NaN                       0.00   \n",
       "4                                          NaN                       0.00   \n",
       "\n",
       "   Spicy  \n",
       "0      0  \n",
       "1      0  \n",
       "2      1  \n",
       "3      0  \n",
       "4      0  "
      ]
     },
     "execution_count": 32,
     "metadata": {},
     "output_type": "execute_result"
    }
   ],
   "source": [
    "def separate_peppers(SHU):\n",
    "    if SHU > 0:\n",
    "        return 1\n",
    "    if SHU <= 0:\n",
    "        return 0\n",
    "        \n",
    "\n",
    "# Lets start by identifying the bell peppers apart from the spicy peppers in our training set.\n",
    "train_df['Spicy'] = train_df[target].apply(separate_peppers)\n",
    "train_df.head()"
   ]
  },
  {
   "cell_type": "code",
   "execution_count": 33,
   "metadata": {},
   "outputs": [],
   "source": [
    "new_target = 'Spicy'\n",
    "X_s = train_df.drop(columns=[target, new_target])\n",
    "y_s = train_df[new_target]"
   ]
  },
  {
   "cell_type": "code",
   "execution_count": 34,
   "metadata": {},
   "outputs": [],
   "source": [
    "X_train_s, X_val_s, y_train_s, y_val_s = train_test_split(X_s, y_s, test_size=0.25)"
   ]
  },
  {
   "cell_type": "markdown",
   "metadata": {},
   "source": [
    "I will be using the same RandomForestClassifier as I used for pipeline (B). I will only change the scoring in GridSearchCV to 'accuracy'."
   ]
  },
  {
   "cell_type": "code",
   "execution_count": 35,
   "metadata": {},
   "outputs": [
    {
     "name": "stdout",
     "output_type": "stream",
     "text": [
      "0.8773333333333333\n",
      "{'preprocessor__numerical__pca__n_components': 0.84, 'rf__max_depth': None, 'rf__n_estimators': 250}\n"
     ]
    }
   ],
   "source": [
    "grid_search_rf2 = GridSearchCV(estimator=pipeline_rf,\n",
    "                             param_grid=param_grid_rf,\n",
    "                             cv=10,\n",
    "                             scoring='accuracy',\n",
    "                             n_jobs=-1)\n",
    "\n",
    "gs_rf_result2 = grid_search_rf2.fit(X_train_s, y_train_s)\n",
    "print(gs_rf_result2.best_score_)\n",
    "print(gs_rf_result2.best_params_)"
   ]
  },
  {
   "cell_type": "code",
   "execution_count": 36,
   "metadata": {},
   "outputs": [
    {
     "data": {
      "text/plain": [
       "0.84"
      ]
     },
     "execution_count": 36,
     "metadata": {},
     "output_type": "execute_result"
    }
   ],
   "source": [
    "rf_best2 = gs_rf_result2.best_estimator_\n",
    "rf_best2.fit(X_train_s, y_train_s)\n",
    "rf_best2.score(X_val_s, y_val_s)"
   ]
  },
  {
   "cell_type": "code",
   "execution_count": 37,
   "metadata": {},
   "outputs": [],
   "source": [
    "rf_best2.fit(X_s, y_s)\n",
    "# This will give me the predictions for spicy and not spicy on the test set.\n",
    "y_test_s = rf_best2.predict(X_test)"
   ]
  },
  {
   "cell_type": "code",
   "execution_count": 38,
   "metadata": {},
   "outputs": [
    {
     "data": {
      "text/html": [
       "<div>\n",
       "<style scoped>\n",
       "    .dataframe tbody tr th:only-of-type {\n",
       "        vertical-align: middle;\n",
       "    }\n",
       "\n",
       "    .dataframe tbody tr th {\n",
       "        vertical-align: top;\n",
       "    }\n",
       "\n",
       "    .dataframe thead th {\n",
       "        text-align: right;\n",
       "    }\n",
       "</style>\n",
       "<table border=\"1\" class=\"dataframe\">\n",
       "  <thead>\n",
       "    <tr style=\"text-align: right;\">\n",
       "      <th></th>\n",
       "      <th>Length (cm)</th>\n",
       "      <th>Width (cm)</th>\n",
       "      <th>Weight (g)</th>\n",
       "      <th>Pericarp Thickness (mm)</th>\n",
       "      <th>Seed Count</th>\n",
       "      <th>Capsaicin Content</th>\n",
       "      <th>Vitamin C Content (mg)</th>\n",
       "      <th>Sugar Content</th>\n",
       "      <th>Moisture Content</th>\n",
       "      <th>Firmness</th>\n",
       "      <th>color</th>\n",
       "      <th>Harvest Time</th>\n",
       "      <th>Average Daily Temperature During Growth (celcius)</th>\n",
       "      <th>Average Temperature During Storage (celcius)</th>\n",
       "      <th>Spicy</th>\n",
       "    </tr>\n",
       "  </thead>\n",
       "  <tbody>\n",
       "    <tr>\n",
       "      <th>0</th>\n",
       "      <td>20.60</td>\n",
       "      <td>6.92</td>\n",
       "      <td>90.98</td>\n",
       "      <td>3.55</td>\n",
       "      <td>2.25</td>\n",
       "      <td>0.89</td>\n",
       "      <td>128.00</td>\n",
       "      <td>6.64</td>\n",
       "      <td>75.72</td>\n",
       "      <td>4.33</td>\n",
       "      <td>red</td>\n",
       "      <td>Midday</td>\n",
       "      <td>28.05</td>\n",
       "      <td>7-8</td>\n",
       "      <td>0</td>\n",
       "    </tr>\n",
       "    <tr>\n",
       "      <th>1</th>\n",
       "      <td>9.38</td>\n",
       "      <td>11.84</td>\n",
       "      <td>130.67</td>\n",
       "      <td>0.51</td>\n",
       "      <td>2.92</td>\n",
       "      <td>4.86</td>\n",
       "      <td>158.31</td>\n",
       "      <td>1.45</td>\n",
       "      <td>121.15</td>\n",
       "      <td>3.95</td>\n",
       "      <td>yellow</td>\n",
       "      <td>Midday</td>\n",
       "      <td>18.89</td>\n",
       "      <td>NaN</td>\n",
       "      <td>1</td>\n",
       "    </tr>\n",
       "    <tr>\n",
       "      <th>2</th>\n",
       "      <td>7.65</td>\n",
       "      <td>3.87</td>\n",
       "      <td>78.76</td>\n",
       "      <td>8.88</td>\n",
       "      <td>125.27</td>\n",
       "      <td>3.55</td>\n",
       "      <td>96.85</td>\n",
       "      <td>3.80</td>\n",
       "      <td>133.85</td>\n",
       "      <td>3.35</td>\n",
       "      <td>yellow</td>\n",
       "      <td>Midday</td>\n",
       "      <td>15.87</td>\n",
       "      <td>NaN</td>\n",
       "      <td>0</td>\n",
       "    </tr>\n",
       "    <tr>\n",
       "      <th>3</th>\n",
       "      <td>9.04</td>\n",
       "      <td>7.89</td>\n",
       "      <td>149.76</td>\n",
       "      <td>5.26</td>\n",
       "      <td>284.68</td>\n",
       "      <td>3.86</td>\n",
       "      <td>231.46</td>\n",
       "      <td>4.99</td>\n",
       "      <td>109.73</td>\n",
       "      <td>5.50</td>\n",
       "      <td>red</td>\n",
       "      <td>Midday</td>\n",
       "      <td>19.51</td>\n",
       "      <td>NaN</td>\n",
       "      <td>0</td>\n",
       "    </tr>\n",
       "    <tr>\n",
       "      <th>4</th>\n",
       "      <td>9.80</td>\n",
       "      <td>6.65</td>\n",
       "      <td>127.25</td>\n",
       "      <td>1.38</td>\n",
       "      <td>126.19</td>\n",
       "      <td>12.60</td>\n",
       "      <td>174.90</td>\n",
       "      <td>5.33</td>\n",
       "      <td>104.12</td>\n",
       "      <td>1.61</td>\n",
       "      <td>red</td>\n",
       "      <td>Midday</td>\n",
       "      <td>23.61</td>\n",
       "      <td>NaN</td>\n",
       "      <td>1</td>\n",
       "    </tr>\n",
       "  </tbody>\n",
       "</table>\n",
       "</div>"
      ],
      "text/plain": [
       "   Length (cm)  Width (cm)  Weight (g)  Pericarp Thickness (mm)  Seed Count  \\\n",
       "0        20.60        6.92       90.98                     3.55        2.25   \n",
       "1         9.38       11.84      130.67                     0.51        2.92   \n",
       "2         7.65        3.87       78.76                     8.88      125.27   \n",
       "3         9.04        7.89      149.76                     5.26      284.68   \n",
       "4         9.80        6.65      127.25                     1.38      126.19   \n",
       "\n",
       "   Capsaicin Content  Vitamin C Content (mg)  Sugar Content  Moisture Content  \\\n",
       "0               0.89                  128.00           6.64             75.72   \n",
       "1               4.86                  158.31           1.45            121.15   \n",
       "2               3.55                   96.85           3.80            133.85   \n",
       "3               3.86                  231.46           4.99            109.73   \n",
       "4              12.60                  174.90           5.33            104.12   \n",
       "\n",
       "   Firmness   color Harvest Time  \\\n",
       "0      4.33     red       Midday   \n",
       "1      3.95  yellow       Midday   \n",
       "2      3.35  yellow       Midday   \n",
       "3      5.50     red       Midday   \n",
       "4      1.61     red       Midday   \n",
       "\n",
       "   Average Daily Temperature During Growth (celcius)  \\\n",
       "0                                              28.05   \n",
       "1                                              18.89   \n",
       "2                                              15.87   \n",
       "3                                              19.51   \n",
       "4                                              23.61   \n",
       "\n",
       "  Average Temperature During Storage (celcius)  Spicy  \n",
       "0                                          7-8      0  \n",
       "1                                          NaN      1  \n",
       "2                                          NaN      0  \n",
       "3                                          NaN      0  \n",
       "4                                          NaN      1  "
      ]
     },
     "execution_count": 38,
     "metadata": {},
     "output_type": "execute_result"
    }
   ],
   "source": [
    "# I will add the the predicted spicy peppers to our test dataset.\n",
    "X_test[new_target] = y_test_s\n",
    "X_test.head()"
   ]
  },
  {
   "cell_type": "code",
   "execution_count": 39,
   "metadata": {},
   "outputs": [],
   "source": [
    "# Now I will separate the predicted bell peppers from the spicy peppers.\n",
    "bell_peppers_data = X_test.drop(X_test[X_test[new_target] == 1].index)\n",
    "spicy_peppers_data = X_test.drop(X_test[X_test[new_target] == 0].index)"
   ]
  },
  {
   "cell_type": "code",
   "execution_count": 40,
   "metadata": {},
   "outputs": [],
   "source": [
    "# I remove the Spicy target as it does not originally exist in our train and test sets.\n",
    "spicy_peppers_data = spicy_peppers_data.drop(columns=[new_target])\n",
    "# I will train the LinearRegression model on the spicy dataset.\n",
    "y_spicy_pred = lr_best.predict(spicy_peppers_data)"
   ]
  },
  {
   "cell_type": "code",
   "execution_count": 41,
   "metadata": {},
   "outputs": [
    {
     "data": {
      "text/html": [
       "<div>\n",
       "<style scoped>\n",
       "    .dataframe tbody tr th:only-of-type {\n",
       "        vertical-align: middle;\n",
       "    }\n",
       "\n",
       "    .dataframe tbody tr th {\n",
       "        vertical-align: top;\n",
       "    }\n",
       "\n",
       "    .dataframe thead th {\n",
       "        text-align: right;\n",
       "    }\n",
       "</style>\n",
       "<table border=\"1\" class=\"dataframe\">\n",
       "  <thead>\n",
       "    <tr style=\"text-align: right;\">\n",
       "      <th></th>\n",
       "      <th>Length (cm)</th>\n",
       "      <th>Width (cm)</th>\n",
       "      <th>Weight (g)</th>\n",
       "      <th>Pericarp Thickness (mm)</th>\n",
       "      <th>Seed Count</th>\n",
       "      <th>Capsaicin Content</th>\n",
       "      <th>Vitamin C Content (mg)</th>\n",
       "      <th>Sugar Content</th>\n",
       "      <th>Moisture Content</th>\n",
       "      <th>Firmness</th>\n",
       "      <th>color</th>\n",
       "      <th>Harvest Time</th>\n",
       "      <th>Average Daily Temperature During Growth (celcius)</th>\n",
       "      <th>Average Temperature During Storage (celcius)</th>\n",
       "      <th>Scoville Heat Units (SHU)</th>\n",
       "    </tr>\n",
       "  </thead>\n",
       "  <tbody>\n",
       "    <tr>\n",
       "      <th>0</th>\n",
       "      <td>20.60</td>\n",
       "      <td>6.92</td>\n",
       "      <td>90.98</td>\n",
       "      <td>3.55</td>\n",
       "      <td>2.25</td>\n",
       "      <td>0.89</td>\n",
       "      <td>128.00</td>\n",
       "      <td>6.64</td>\n",
       "      <td>75.72</td>\n",
       "      <td>4.33</td>\n",
       "      <td>red</td>\n",
       "      <td>Midday</td>\n",
       "      <td>28.05</td>\n",
       "      <td>7-8</td>\n",
       "      <td>0.000000</td>\n",
       "    </tr>\n",
       "    <tr>\n",
       "      <th>1</th>\n",
       "      <td>9.38</td>\n",
       "      <td>11.84</td>\n",
       "      <td>130.67</td>\n",
       "      <td>0.51</td>\n",
       "      <td>2.92</td>\n",
       "      <td>4.86</td>\n",
       "      <td>158.31</td>\n",
       "      <td>1.45</td>\n",
       "      <td>121.15</td>\n",
       "      <td>3.95</td>\n",
       "      <td>yellow</td>\n",
       "      <td>Midday</td>\n",
       "      <td>18.89</td>\n",
       "      <td>NaN</td>\n",
       "      <td>139951.094426</td>\n",
       "    </tr>\n",
       "    <tr>\n",
       "      <th>2</th>\n",
       "      <td>7.65</td>\n",
       "      <td>3.87</td>\n",
       "      <td>78.76</td>\n",
       "      <td>8.88</td>\n",
       "      <td>125.27</td>\n",
       "      <td>3.55</td>\n",
       "      <td>96.85</td>\n",
       "      <td>3.80</td>\n",
       "      <td>133.85</td>\n",
       "      <td>3.35</td>\n",
       "      <td>yellow</td>\n",
       "      <td>Midday</td>\n",
       "      <td>15.87</td>\n",
       "      <td>NaN</td>\n",
       "      <td>0.000000</td>\n",
       "    </tr>\n",
       "    <tr>\n",
       "      <th>3</th>\n",
       "      <td>9.04</td>\n",
       "      <td>7.89</td>\n",
       "      <td>149.76</td>\n",
       "      <td>5.26</td>\n",
       "      <td>284.68</td>\n",
       "      <td>3.86</td>\n",
       "      <td>231.46</td>\n",
       "      <td>4.99</td>\n",
       "      <td>109.73</td>\n",
       "      <td>5.50</td>\n",
       "      <td>red</td>\n",
       "      <td>Midday</td>\n",
       "      <td>19.51</td>\n",
       "      <td>NaN</td>\n",
       "      <td>0.000000</td>\n",
       "    </tr>\n",
       "    <tr>\n",
       "      <th>4</th>\n",
       "      <td>9.80</td>\n",
       "      <td>6.65</td>\n",
       "      <td>127.25</td>\n",
       "      <td>1.38</td>\n",
       "      <td>126.19</td>\n",
       "      <td>12.60</td>\n",
       "      <td>174.90</td>\n",
       "      <td>5.33</td>\n",
       "      <td>104.12</td>\n",
       "      <td>1.61</td>\n",
       "      <td>red</td>\n",
       "      <td>Midday</td>\n",
       "      <td>23.61</td>\n",
       "      <td>NaN</td>\n",
       "      <td>165317.972506</td>\n",
       "    </tr>\n",
       "    <tr>\n",
       "      <th>...</th>\n",
       "      <td>...</td>\n",
       "      <td>...</td>\n",
       "      <td>...</td>\n",
       "      <td>...</td>\n",
       "      <td>...</td>\n",
       "      <td>...</td>\n",
       "      <td>...</td>\n",
       "      <td>...</td>\n",
       "      <td>...</td>\n",
       "      <td>...</td>\n",
       "      <td>...</td>\n",
       "      <td>...</td>\n",
       "      <td>...</td>\n",
       "      <td>...</td>\n",
       "      <td>...</td>\n",
       "    </tr>\n",
       "    <tr>\n",
       "      <th>795</th>\n",
       "      <td>11.84</td>\n",
       "      <td>5.98</td>\n",
       "      <td>161.03</td>\n",
       "      <td>4.57</td>\n",
       "      <td>10.84</td>\n",
       "      <td>9.97</td>\n",
       "      <td>186.23</td>\n",
       "      <td>0.55</td>\n",
       "      <td>103.35</td>\n",
       "      <td>3.42</td>\n",
       "      <td>yellow</td>\n",
       "      <td>Midday</td>\n",
       "      <td>21.12</td>\n",
       "      <td>NaN</td>\n",
       "      <td>136372.759711</td>\n",
       "    </tr>\n",
       "    <tr>\n",
       "      <th>796</th>\n",
       "      <td>16.55</td>\n",
       "      <td>11.89</td>\n",
       "      <td>394.41</td>\n",
       "      <td>3.80</td>\n",
       "      <td>87.69</td>\n",
       "      <td>2.40</td>\n",
       "      <td>100.54</td>\n",
       "      <td>4.67</td>\n",
       "      <td>100.41</td>\n",
       "      <td>3.61</td>\n",
       "      <td>red</td>\n",
       "      <td>Morning</td>\n",
       "      <td>17.44</td>\n",
       "      <td>NaN</td>\n",
       "      <td>0.000000</td>\n",
       "    </tr>\n",
       "    <tr>\n",
       "      <th>797</th>\n",
       "      <td>9.39</td>\n",
       "      <td>3.32</td>\n",
       "      <td>63.43</td>\n",
       "      <td>1.77</td>\n",
       "      <td>10.32</td>\n",
       "      <td>2.65</td>\n",
       "      <td>232.88</td>\n",
       "      <td>2.56</td>\n",
       "      <td>83.58</td>\n",
       "      <td>3.92</td>\n",
       "      <td>yellow</td>\n",
       "      <td>Midday</td>\n",
       "      <td>21.70</td>\n",
       "      <td>NaN</td>\n",
       "      <td>91345.879832</td>\n",
       "    </tr>\n",
       "    <tr>\n",
       "      <th>798</th>\n",
       "      <td>7.77</td>\n",
       "      <td>7.50</td>\n",
       "      <td>59.13</td>\n",
       "      <td>2.70</td>\n",
       "      <td>142.91</td>\n",
       "      <td>0.24</td>\n",
       "      <td>126.11</td>\n",
       "      <td>4.51</td>\n",
       "      <td>83.68</td>\n",
       "      <td>3.75</td>\n",
       "      <td>green</td>\n",
       "      <td>Midday</td>\n",
       "      <td>22.73</td>\n",
       "      <td>NaN</td>\n",
       "      <td>66277.439208</td>\n",
       "    </tr>\n",
       "    <tr>\n",
       "      <th>799</th>\n",
       "      <td>20.98</td>\n",
       "      <td>6.84</td>\n",
       "      <td>201.85</td>\n",
       "      <td>5.83</td>\n",
       "      <td>233.62</td>\n",
       "      <td>3.79</td>\n",
       "      <td>310.55</td>\n",
       "      <td>9.19</td>\n",
       "      <td>126.47</td>\n",
       "      <td>1.72</td>\n",
       "      <td>red</td>\n",
       "      <td>Evening</td>\n",
       "      <td>22.19</td>\n",
       "      <td>10-11</td>\n",
       "      <td>0.000000</td>\n",
       "    </tr>\n",
       "  </tbody>\n",
       "</table>\n",
       "<p>800 rows × 15 columns</p>\n",
       "</div>"
      ],
      "text/plain": [
       "     Length (cm)  Width (cm)  Weight (g)  Pericarp Thickness (mm)  Seed Count  \\\n",
       "0          20.60        6.92       90.98                     3.55        2.25   \n",
       "1           9.38       11.84      130.67                     0.51        2.92   \n",
       "2           7.65        3.87       78.76                     8.88      125.27   \n",
       "3           9.04        7.89      149.76                     5.26      284.68   \n",
       "4           9.80        6.65      127.25                     1.38      126.19   \n",
       "..           ...         ...         ...                      ...         ...   \n",
       "795        11.84        5.98      161.03                     4.57       10.84   \n",
       "796        16.55       11.89      394.41                     3.80       87.69   \n",
       "797         9.39        3.32       63.43                     1.77       10.32   \n",
       "798         7.77        7.50       59.13                     2.70      142.91   \n",
       "799        20.98        6.84      201.85                     5.83      233.62   \n",
       "\n",
       "     Capsaicin Content  Vitamin C Content (mg)  Sugar Content  \\\n",
       "0                 0.89                  128.00           6.64   \n",
       "1                 4.86                  158.31           1.45   \n",
       "2                 3.55                   96.85           3.80   \n",
       "3                 3.86                  231.46           4.99   \n",
       "4                12.60                  174.90           5.33   \n",
       "..                 ...                     ...            ...   \n",
       "795               9.97                  186.23           0.55   \n",
       "796               2.40                  100.54           4.67   \n",
       "797               2.65                  232.88           2.56   \n",
       "798               0.24                  126.11           4.51   \n",
       "799               3.79                  310.55           9.19   \n",
       "\n",
       "     Moisture Content  Firmness   color Harvest Time  \\\n",
       "0               75.72      4.33     red       Midday   \n",
       "1              121.15      3.95  yellow       Midday   \n",
       "2              133.85      3.35  yellow       Midday   \n",
       "3              109.73      5.50     red       Midday   \n",
       "4              104.12      1.61     red       Midday   \n",
       "..                ...       ...     ...          ...   \n",
       "795            103.35      3.42  yellow       Midday   \n",
       "796            100.41      3.61     red      Morning   \n",
       "797             83.58      3.92  yellow       Midday   \n",
       "798             83.68      3.75   green       Midday   \n",
       "799            126.47      1.72     red      Evening   \n",
       "\n",
       "     Average Daily Temperature During Growth (celcius)  \\\n",
       "0                                                28.05   \n",
       "1                                                18.89   \n",
       "2                                                15.87   \n",
       "3                                                19.51   \n",
       "4                                                23.61   \n",
       "..                                                 ...   \n",
       "795                                              21.12   \n",
       "796                                              17.44   \n",
       "797                                              21.70   \n",
       "798                                              22.73   \n",
       "799                                              22.19   \n",
       "\n",
       "    Average Temperature During Storage (celcius)  Scoville Heat Units (SHU)  \n",
       "0                                            7-8                   0.000000  \n",
       "1                                            NaN              139951.094426  \n",
       "2                                            NaN                   0.000000  \n",
       "3                                            NaN                   0.000000  \n",
       "4                                            NaN              165317.972506  \n",
       "..                                           ...                        ...  \n",
       "795                                          NaN              136372.759711  \n",
       "796                                          NaN                   0.000000  \n",
       "797                                          NaN               91345.879832  \n",
       "798                                          NaN               66277.439208  \n",
       "799                                        10-11                   0.000000  \n",
       "\n",
       "[800 rows x 15 columns]"
      ]
     },
     "execution_count": 41,
     "metadata": {},
     "output_type": "execute_result"
    }
   ],
   "source": [
    "# I rename the column Spicy to SHU, because for bell peppers 0 is their SHU.\n",
    "bell_peppers_data = bell_peppers_data.rename(columns={'Spicy':'Scoville Heat Units (SHU)'})\n",
    "# Assigning the predicted SHU for the spicy peppers back to our data set.\n",
    "spicy_peppers_data['Scoville Heat Units (SHU)'] = y_spicy_pred\n",
    "# Combining the bell and spicy peppers data sets.\n",
    "combined_data = pd.concat([bell_peppers_data, spicy_peppers_data])\n",
    "# Sorting them based on their indices, so as to preserve the original order of the data set.\n",
    "combined_data = combined_data.sort_index(axis=0)\n",
    "combined_data"
   ]
  },
  {
   "cell_type": "markdown",
   "metadata": {},
   "source": [
    "### Final evaluation\n",
    "\n",
    "Here I am taking the best parameters for the PLSRegression, LinearRegression and RandomForestClassifier models and training it on the entire dataset. And then I do a final prediction on the real test dataset."
   ]
  },
  {
   "cell_type": "code",
   "execution_count": 42,
   "metadata": {},
   "outputs": [],
   "source": [
    "# Training our best PLSRegression model on the entire dataset. (Pipeline (A)) \n",
    "pls_best.fit(X, y)\n",
    "# Making predictions for our best PLSRegression model on the test set.\n",
    "y_pred_pls = pls_best.predict(X_test)"
   ]
  },
  {
   "cell_type": "code",
   "execution_count": 43,
   "metadata": {},
   "outputs": [],
   "source": [
    "# Training our best LinearRegression model on the entire dataset. (Pipeline (A)) \n",
    "lr_best.fit(X, y)\n",
    "# Making predictions for our best LinearRegression model on the test set.\n",
    "y_pred_lr = lr_best.predict(X_test)"
   ]
  },
  {
   "cell_type": "code",
   "execution_count": 44,
   "metadata": {},
   "outputs": [],
   "source": [
    "# Training our best RandomForestClassifier model on the entire binned dataset. (Pipeline (B))\n",
    "rf_best.fit(X_bin, y_bin)\n",
    "# Making predictions for our best RandomForestClassifier model on the test set.\n",
    "y_pred_rf = rf_best.predict(X_test)"
   ]
  },
  {
   "cell_type": "code",
   "execution_count": 45,
   "metadata": {},
   "outputs": [
    {
     "data": {
      "text/plain": [
       "0           0.000000\n",
       "1      139951.094426\n",
       "2           0.000000\n",
       "3           0.000000\n",
       "4      165317.972506\n",
       "           ...      \n",
       "795    136372.759711\n",
       "796         0.000000\n",
       "797     91345.879832\n",
       "798     66277.439208\n",
       "799         0.000000\n",
       "Name: Scoville Heat Units (SHU), Length: 800, dtype: float64"
      ]
     },
     "execution_count": 45,
     "metadata": {},
     "output_type": "execute_result"
    }
   ],
   "source": [
    "# Here I extract the combined predicted SHU. (Pipeline (C))\n",
    "y_combined = combined_data[target]\n",
    "y_combined"
   ]
  },
  {
   "cell_type": "markdown",
   "metadata": {},
   "source": [
    "### Kaggle submission"
   ]
  },
  {
   "cell_type": "code",
   "execution_count": 46,
   "metadata": {},
   "outputs": [],
   "source": [
    "# Submission for the PLSRegression model.\n",
    "y_csv_pls = np.savetxt('y_pred_pls.csv', np.dstack((np.arange(0, y_pred_pls.size),y_pred_pls))[0], header=\"index,Scoville Heat Units (SHU)\", comments='', fmt='%d,%s')"
   ]
  },
  {
   "cell_type": "code",
   "execution_count": 47,
   "metadata": {},
   "outputs": [],
   "source": [
    "# Submission for the LinearRegression model.\n",
    "y_csv_lr = np.savetxt('y_pred_lr.csv', np.dstack((np.arange(0, y_pred_lr.size), y_pred_lr))[0], header='index,Scoville Heat Units (SHU)', comments='', fmt='%d,%s')"
   ]
  },
  {
   "cell_type": "code",
   "execution_count": 48,
   "metadata": {},
   "outputs": [],
   "source": [
    "# Submission for Pipeline (B).\n",
    "y_csv_rf = np.savetxt('y_pred_rf.csv', np.dstack((np.arange(0, y_pred_rf.size), y_pred_rf))[0], header='index,Scoville Heat Units (SHU)', comments='', fmt='%d,%s')"
   ]
  },
  {
   "cell_type": "code",
   "execution_count": 49,
   "metadata": {},
   "outputs": [],
   "source": [
    "# Submission for Pipeline (C).\n",
    "y_csv_combined = np.savetxt('y_combined.csv', np.dstack((np.arange(0, y_combined.size), y_combined))[0], header='index,Scoville Heat Units (SHU)', comments='', fmt='%d,%s')"
   ]
  }
 ],
 "metadata": {
  "kernelspec": {
   "display_name": "Python 3 (ipykernel)",
   "language": "python",
   "name": "python3"
  },
  "language_info": {
   "codemirror_mode": {
    "name": "ipython",
    "version": 3
   },
   "file_extension": ".py",
   "mimetype": "text/x-python",
   "name": "python",
   "nbconvert_exporter": "python",
   "pygments_lexer": "ipython3",
   "version": "3.10.12"
  }
 },
 "nbformat": 4,
 "nbformat_minor": 2
}
